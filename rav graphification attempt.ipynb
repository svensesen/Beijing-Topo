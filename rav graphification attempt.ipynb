{
 "cells": [
  {
   "cell_type": "code",
   "execution_count": 1,
   "id": "c7d29fd9",
   "metadata": {},
   "outputs": [],
   "source": [
    "#CHANGE THE PATH TO THE PATH AT YOUR PC!\n",
    "path = \"C:\\\\Users\\\\user\\\\Desktop\\\\TUe\\\\Topological\\\\Project\\\\Geolife Trajectories 1.3\\\\Data\\\\\"\n",
    "CITY_BORDERS = [40.19, 39.65, 115.98, 116.74]\n",
    "#Optimal threshold for # of occurances per cell to be classified as a vetex - 600\n",
    "\n",
    "import pandas as pd\n",
    "import os\n",
    "from datetime import datetime, timedelta\n",
    "import matplotlib.pyplot as plt"
   ]
  },
  {
   "cell_type": "code",
   "execution_count": 2,
   "id": "7b573889",
   "metadata": {},
   "outputs": [],
   "source": [
    "df = pd.read_csv(\".\\\\presets\\\\very_short.csv\")"
   ]
  },
  {
   "cell_type": "code",
   "execution_count": 3,
   "id": "0ef27667",
   "metadata": {},
   "outputs": [
    {
     "data": {
      "text/html": [
       "<div>\n",
       "<style scoped>\n",
       "    .dataframe tbody tr th:only-of-type {\n",
       "        vertical-align: middle;\n",
       "    }\n",
       "\n",
       "    .dataframe tbody tr th {\n",
       "        vertical-align: top;\n",
       "    }\n",
       "\n",
       "    .dataframe thead th {\n",
       "        text-align: right;\n",
       "    }\n",
       "</style>\n",
       "<table border=\"1\" class=\"dataframe\">\n",
       "  <thead>\n",
       "    <tr style=\"text-align: right;\">\n",
       "      <th></th>\n",
       "      <th>latitude</th>\n",
       "      <th>longitude</th>\n",
       "      <th>altitude</th>\n",
       "      <th>date</th>\n",
       "      <th>trajectory</th>\n",
       "      <th>user</th>\n",
       "      <th>transportation</th>\n",
       "    </tr>\n",
       "  </thead>\n",
       "  <tbody>\n",
       "    <tr>\n",
       "      <th>0</th>\n",
       "      <td>39.994622</td>\n",
       "      <td>116.326757</td>\n",
       "      <td>150</td>\n",
       "      <td>2008-10-27 19:54:52</td>\n",
       "      <td>0.200810</td>\n",
       "      <td>0</td>\n",
       "      <td>NaN</td>\n",
       "    </tr>\n",
       "    <tr>\n",
       "      <th>1</th>\n",
       "      <td>39.994614</td>\n",
       "      <td>116.326751</td>\n",
       "      <td>150</td>\n",
       "      <td>2008-10-27 19:54:54</td>\n",
       "      <td>0.200810</td>\n",
       "      <td>0</td>\n",
       "      <td>NaN</td>\n",
       "    </tr>\n",
       "    <tr>\n",
       "      <th>2</th>\n",
       "      <td>39.994602</td>\n",
       "      <td>116.326769</td>\n",
       "      <td>150</td>\n",
       "      <td>2008-10-27 19:54:59</td>\n",
       "      <td>0.200810</td>\n",
       "      <td>0</td>\n",
       "      <td>NaN</td>\n",
       "    </tr>\n",
       "    <tr>\n",
       "      <th>3</th>\n",
       "      <td>39.994599</td>\n",
       "      <td>116.326769</td>\n",
       "      <td>150</td>\n",
       "      <td>2008-10-27 19:55:04</td>\n",
       "      <td>0.200810</td>\n",
       "      <td>0</td>\n",
       "      <td>NaN</td>\n",
       "    </tr>\n",
       "    <tr>\n",
       "      <th>4</th>\n",
       "      <td>39.994599</td>\n",
       "      <td>116.326769</td>\n",
       "      <td>150</td>\n",
       "      <td>2008-10-27 19:55:07</td>\n",
       "      <td>0.200810</td>\n",
       "      <td>0</td>\n",
       "      <td>NaN</td>\n",
       "    </tr>\n",
       "    <tr>\n",
       "      <th>...</th>\n",
       "      <td>...</td>\n",
       "      <td>...</td>\n",
       "      <td>...</td>\n",
       "      <td>...</td>\n",
       "      <td>...</td>\n",
       "      <td>...</td>\n",
       "      <td>...</td>\n",
       "    </tr>\n",
       "    <tr>\n",
       "      <th>166955</th>\n",
       "      <td>39.986867</td>\n",
       "      <td>116.304267</td>\n",
       "      <td>65</td>\n",
       "      <td>2008-03-16 10:12:08</td>\n",
       "      <td>99.200803</td>\n",
       "      <td>99</td>\n",
       "      <td>NaN</td>\n",
       "    </tr>\n",
       "    <tr>\n",
       "      <th>166956</th>\n",
       "      <td>39.987133</td>\n",
       "      <td>116.305183</td>\n",
       "      <td>42</td>\n",
       "      <td>2008-03-16 10:13:19</td>\n",
       "      <td>99.200803</td>\n",
       "      <td>99</td>\n",
       "      <td>NaN</td>\n",
       "    </tr>\n",
       "    <tr>\n",
       "      <th>166957</th>\n",
       "      <td>39.987633</td>\n",
       "      <td>116.305267</td>\n",
       "      <td>90</td>\n",
       "      <td>2008-03-16 10:14:26</td>\n",
       "      <td>99.200803</td>\n",
       "      <td>99</td>\n",
       "      <td>NaN</td>\n",
       "    </tr>\n",
       "    <tr>\n",
       "      <th>166958</th>\n",
       "      <td>39.988183</td>\n",
       "      <td>116.306317</td>\n",
       "      <td>37</td>\n",
       "      <td>2008-03-16 10:16:10</td>\n",
       "      <td>99.200803</td>\n",
       "      <td>99</td>\n",
       "      <td>NaN</td>\n",
       "    </tr>\n",
       "    <tr>\n",
       "      <th>166959</th>\n",
       "      <td>39.988950</td>\n",
       "      <td>116.306633</td>\n",
       "      <td>98</td>\n",
       "      <td>2008-03-16 10:17:51</td>\n",
       "      <td>99.200803</td>\n",
       "      <td>99</td>\n",
       "      <td>NaN</td>\n",
       "    </tr>\n",
       "  </tbody>\n",
       "</table>\n",
       "<p>166960 rows × 7 columns</p>\n",
       "</div>"
      ],
      "text/plain": [
       "         latitude   longitude  altitude                 date  trajectory  \\\n",
       "0       39.994622  116.326757       150  2008-10-27 19:54:52    0.200810   \n",
       "1       39.994614  116.326751       150  2008-10-27 19:54:54    0.200810   \n",
       "2       39.994602  116.326769       150  2008-10-27 19:54:59    0.200810   \n",
       "3       39.994599  116.326769       150  2008-10-27 19:55:04    0.200810   \n",
       "4       39.994599  116.326769       150  2008-10-27 19:55:07    0.200810   \n",
       "...           ...         ...       ...                  ...         ...   \n",
       "166955  39.986867  116.304267        65  2008-03-16 10:12:08   99.200803   \n",
       "166956  39.987133  116.305183        42  2008-03-16 10:13:19   99.200803   \n",
       "166957  39.987633  116.305267        90  2008-03-16 10:14:26   99.200803   \n",
       "166958  39.988183  116.306317        37  2008-03-16 10:16:10   99.200803   \n",
       "166959  39.988950  116.306633        98  2008-03-16 10:17:51   99.200803   \n",
       "\n",
       "        user transportation  \n",
       "0          0            NaN  \n",
       "1          0            NaN  \n",
       "2          0            NaN  \n",
       "3          0            NaN  \n",
       "4          0            NaN  \n",
       "...      ...            ...  \n",
       "166955    99            NaN  \n",
       "166956    99            NaN  \n",
       "166957    99            NaN  \n",
       "166958    99            NaN  \n",
       "166959    99            NaN  \n",
       "\n",
       "[166960 rows x 7 columns]"
      ]
     },
     "execution_count": 3,
     "metadata": {},
     "output_type": "execute_result"
    }
   ],
   "source": [
    "df"
   ]
  },
  {
   "cell_type": "markdown",
   "id": "b8c9eca4",
   "metadata": {},
   "source": [
    "## This will be an attempt at the graphification - probably I won't do this in one go"
   ]
  },
  {
   "cell_type": "code",
   "execution_count": 4,
   "id": "72ddaca2",
   "metadata": {},
   "outputs": [
    {
     "data": {
      "text/plain": [
       "[(0, 0), (1, 1), (2, 2), (3, 3), (4, 4)]"
      ]
     },
     "execution_count": 4,
     "metadata": {},
     "output_type": "execute_result"
    }
   ],
   "source": [
    "[(f, b) for f, b in zip(range(6), range(5))]"
   ]
  },
  {
   "cell_type": "code",
   "execution_count": 5,
   "id": "76dcf7e7",
   "metadata": {},
   "outputs": [],
   "source": [
    "class Cell():\n",
    "    '''Just your regular Square kind of a class'''\n",
    "    def __init__(self, top: float, left: float, bottom: float, right: float):\n",
    "        self.top = top\n",
    "        self.left = left\n",
    "        self.bottom = bottom\n",
    "        self.right = right\n",
    "        self.number_of_locations = 0\n",
    "        self.is_a_vertex = False\n",
    "        \n",
    "    def __str__(self):\n",
    "        return \"Cell: top = \" + str(round(self.top, 5)) + \", left = \" + str(round(self.left, 5)) + \\\n",
    "    \", bottom = \" + str(round(self.bottom, 5)) + \", right = \" + str(round(self.right, 5))\n",
    "\n",
    "    def belongs(self, latitude: float, longitude: float):\n",
    "        '''checks if a point belongs to the cell - pass the point as (y, x)'''\n",
    "        return (latitude > self.bottom and latitude <= self.top and longitude < self.right and longitude >= self.left)\n",
    "    \n",
    "    def vertexize(self, threshold = 600):\n",
    "        '''makes the Cell become a vertex if has more locations that threshold'''\n",
    "        \n",
    "        if self.number_of_locations > threshold:\n",
    "            self.is_a_vertex = True\n",
    "\n",
    "    \n",
    "\n",
    "class Grid():\n",
    "    '''pretty much just a list of Cells that is available at self.cell_list'''\n",
    "    \n",
    "    def __init__(self, latitude_cells_nr: int, longitude_cells_nr: int, city_borders = CITY_BORDERS):\n",
    "        self.latitude_cells_nr = latitude_cells_nr\n",
    "        self.longitude_cells_nr = longitude_cells_nr\n",
    "        self.city_borders = city_borders\n",
    "        \n",
    "        self.latitude_cell_length = round((city_borders[0] - city_borders[1])/latitude_cells_nr, 5)\n",
    "        self.longitude_cell_length = round((city_borders[3] - city_borders[2])/longitude_cells_nr, 5)\n",
    "        \n",
    "        self.cell_list = []\n",
    "        for i in range(latitude_cells_nr):\n",
    "            for j in range(longitude_cells_nr):\n",
    "                self.cell_list.append(Cell(top=city_borders[1] + self.latitude_cell_length*i,\n",
    "                                     left=city_borders[2] + self.longitude_cell_length*j,\n",
    "                                     bottom=city_borders[1] + self.latitude_cell_length*(i+1),\n",
    "                                     right=city_borders[2] + self.longitude_cell_length*(j+1)))\n",
    "                \n",
    "    def __str__(self):\n",
    "        return \"Grid of side length (latitude) \" + str(self.latitude_cell_length) + \\\n",
    "    \" and (longitude) \" + str(self.longitude_cell_length) + \" and total number of cells: \" + \\\n",
    "    str(self.latitude_cells_nr*self.longitude_cells_nr)\n",
    "\n",
    "        \n",
    "    def feed_list_of_points(self, points: list):\n",
    "        '''point is a tuple (y, x) - DO NOT MESS THE Y AND X UP!\n",
    "        increase the number_of_locations for each cell, if the point belongs there'''\n",
    "        \n",
    "        for point in points:\n",
    "            for cell in self.cell_list:\n",
    "                if cell.belongs(point[0], point[1]):\n",
    "                    cell.number_of_locations += 1\n",
    "                    break\n",
    "                    \n",
    "                    \n",
    "    def feed_dataframe_of_points(self, df: pd.DataFrame):\n",
    "        '''point is a row with \"latitude\" as y and \"longitude\" as x - DO NOT MESS Y AND X UP!\n",
    "        increase the number_of_locations for each cell, if the point belongs there'''\n",
    "        \n",
    "        #iterating over DataFrame's rows...unfortunately\n",
    "        for i in range(df.shape[0]):\n",
    "            \n",
    "            #printing to see the progress:\n",
    "            if i % 25000 == 0:\n",
    "                print(i)\n",
    "                \n",
    "            for cell in self.cell_list:\n",
    "                if cell.belongs(df.loc[i][\"latitude\"], df.loc[i][\"longitude\"]):\n",
    "                    cell.number_of_locations += 1\n",
    "                    break\n",
    "                    \n",
    "    def feed_list_of_cell_numbers(self, cell_numbers: list):\n",
    "        '''for each cell number in the list, update the corresponding cell details'''\n",
    "        \n",
    "        for number in cell_numbers:\n",
    "            self.cell_list[int(number)].number_of_locations += 1\n",
    "            \n",
    "    \n",
    "    def vertexize(self, threshold):\n",
    "        '''runs vertexise on each sell of the grid'''\n",
    "        \n",
    "        for cell in self.cell_list:\n",
    "            cell.vertexize(threshold)"
   ]
  },
  {
   "cell_type": "code",
   "execution_count": 6,
   "id": "78e1ea65",
   "metadata": {},
   "outputs": [
    {
     "name": "stdout",
     "output_type": "stream",
     "text": [
      "Grid of side length (latitude) 0.027 and (longitude) 0.038 and total number of cells: 400\n"
     ]
    }
   ],
   "source": [
    "grid = Grid(20, 20) \n",
    "print(grid)"
   ]
  },
  {
   "cell_type": "code",
   "execution_count": 7,
   "id": "64a1fd1f",
   "metadata": {},
   "outputs": [
    {
     "name": "stdout",
     "output_type": "stream",
     "text": [
      "0\n"
     ]
    }
   ],
   "source": [
    "print(grid.cell_list[0].number_of_locations)"
   ]
  },
  {
   "cell_type": "code",
   "execution_count": 8,
   "id": "8c866d92",
   "metadata": {},
   "outputs": [],
   "source": [
    "#grid.feed_dataframe_of_points(df) #Takes WAY too fucking long"
   ]
  },
  {
   "cell_type": "code",
   "execution_count": 9,
   "id": "96d1c798",
   "metadata": {},
   "outputs": [],
   "source": [
    "def row_to_grid_latitude(latitude: float, latitude_cells_number: int, latitude_cell_length: float, CITY_BORDERS: list):\n",
    "    '''For a given latitude in the row of a datafame, checks which column number in the grid the point belongs to'''\n",
    "    \n",
    "    for i in range(latitude_cells_number):\n",
    "        if latitude < CITY_BORDERS[1] + i*latitude_cell_length: #we do not have to check the other containment!\n",
    "            return i\n",
    "    \n",
    "\n",
    "def row_to_grid_longitude(longitude: float, longitude_cells_number: int, longitude_cell_length: float, CITY_BORDERS: list):\n",
    "    '''For a given latitude in the row of a datafame, checks which column number in the grid the point belongs to'''\n",
    "    \n",
    "    for i in range(longitude_cells_number):\n",
    "        if longitude < CITY_BORDERS[2] + i*longitude_cell_length: #we do not have to check the other containment!\n",
    "            return i\n",
    "        \n",
    "\n",
    "def grid_row_and_column_to_cell_number(row_nr: int, column_nr: int, longitude_cells_nr: int):\n",
    "    '''given the x and y in the grid, calculates the cell number'''\n",
    "    \n",
    "    return row_nr*longitude_cells_nr + column_nr"
   ]
  },
  {
   "cell_type": "code",
   "execution_count": 10,
   "id": "a52b6740",
   "metadata": {},
   "outputs": [
    {
     "ename": "KeyError",
     "evalue": "\"['column_number_in_grid' 'row_number_in_grid'] not found in axis\"",
     "output_type": "error",
     "traceback": [
      "\u001b[1;31m---------------------------------------------------------------------------\u001b[0m",
      "\u001b[1;31mKeyError\u001b[0m                                  Traceback (most recent call last)",
      "\u001b[1;32m<ipython-input-10-41c901cf0949>\u001b[0m in \u001b[0;36m<module>\u001b[1;34m\u001b[0m\n\u001b[0;32m     12\u001b[0m \u001b[1;33m\u001b[0m\u001b[0m\n\u001b[0;32m     13\u001b[0m \u001b[1;33m\u001b[0m\u001b[0m\n\u001b[1;32m---> 14\u001b[1;33m \u001b[0mdf\u001b[0m \u001b[1;33m=\u001b[0m \u001b[0mdf\u001b[0m\u001b[1;33m.\u001b[0m\u001b[0mdrop\u001b[0m\u001b[1;33m(\u001b[0m\u001b[1;33m[\u001b[0m\u001b[1;34m'column_number_in_grid'\u001b[0m\u001b[1;33m,\u001b[0m \u001b[1;34m'row_number_in_grid'\u001b[0m\u001b[1;33m]\u001b[0m\u001b[1;33m,\u001b[0m \u001b[0maxis\u001b[0m\u001b[1;33m=\u001b[0m\u001b[1;36m0\u001b[0m\u001b[1;33m)\u001b[0m\u001b[1;33m.\u001b[0m\u001b[0mdropna\u001b[0m\u001b[1;33m(\u001b[0m\u001b[1;33m)\u001b[0m\u001b[1;33m\u001b[0m\u001b[1;33m\u001b[0m\u001b[0m\n\u001b[0m",
      "\u001b[1;32mC:\\ProgramData\\Anaconda3\\lib\\site-packages\\pandas\\core\\frame.py\u001b[0m in \u001b[0;36mdrop\u001b[1;34m(self, labels, axis, index, columns, level, inplace, errors)\u001b[0m\n\u001b[0;32m   4306\u001b[0m                 \u001b[0mweight\u001b[0m  \u001b[1;36m1.0\u001b[0m     \u001b[1;36m0.8\u001b[0m\u001b[1;33m\u001b[0m\u001b[1;33m\u001b[0m\u001b[0m\n\u001b[0;32m   4307\u001b[0m         \"\"\"\n\u001b[1;32m-> 4308\u001b[1;33m         return super().drop(\n\u001b[0m\u001b[0;32m   4309\u001b[0m             \u001b[0mlabels\u001b[0m\u001b[1;33m=\u001b[0m\u001b[0mlabels\u001b[0m\u001b[1;33m,\u001b[0m\u001b[1;33m\u001b[0m\u001b[1;33m\u001b[0m\u001b[0m\n\u001b[0;32m   4310\u001b[0m             \u001b[0maxis\u001b[0m\u001b[1;33m=\u001b[0m\u001b[0maxis\u001b[0m\u001b[1;33m,\u001b[0m\u001b[1;33m\u001b[0m\u001b[1;33m\u001b[0m\u001b[0m\n",
      "\u001b[1;32mC:\\ProgramData\\Anaconda3\\lib\\site-packages\\pandas\\core\\generic.py\u001b[0m in \u001b[0;36mdrop\u001b[1;34m(self, labels, axis, index, columns, level, inplace, errors)\u001b[0m\n\u001b[0;32m   4151\u001b[0m         \u001b[1;32mfor\u001b[0m \u001b[0maxis\u001b[0m\u001b[1;33m,\u001b[0m \u001b[0mlabels\u001b[0m \u001b[1;32min\u001b[0m \u001b[0maxes\u001b[0m\u001b[1;33m.\u001b[0m\u001b[0mitems\u001b[0m\u001b[1;33m(\u001b[0m\u001b[1;33m)\u001b[0m\u001b[1;33m:\u001b[0m\u001b[1;33m\u001b[0m\u001b[1;33m\u001b[0m\u001b[0m\n\u001b[0;32m   4152\u001b[0m             \u001b[1;32mif\u001b[0m \u001b[0mlabels\u001b[0m \u001b[1;32mis\u001b[0m \u001b[1;32mnot\u001b[0m \u001b[1;32mNone\u001b[0m\u001b[1;33m:\u001b[0m\u001b[1;33m\u001b[0m\u001b[1;33m\u001b[0m\u001b[0m\n\u001b[1;32m-> 4153\u001b[1;33m                 \u001b[0mobj\u001b[0m \u001b[1;33m=\u001b[0m \u001b[0mobj\u001b[0m\u001b[1;33m.\u001b[0m\u001b[0m_drop_axis\u001b[0m\u001b[1;33m(\u001b[0m\u001b[0mlabels\u001b[0m\u001b[1;33m,\u001b[0m \u001b[0maxis\u001b[0m\u001b[1;33m,\u001b[0m \u001b[0mlevel\u001b[0m\u001b[1;33m=\u001b[0m\u001b[0mlevel\u001b[0m\u001b[1;33m,\u001b[0m \u001b[0merrors\u001b[0m\u001b[1;33m=\u001b[0m\u001b[0merrors\u001b[0m\u001b[1;33m)\u001b[0m\u001b[1;33m\u001b[0m\u001b[1;33m\u001b[0m\u001b[0m\n\u001b[0m\u001b[0;32m   4154\u001b[0m \u001b[1;33m\u001b[0m\u001b[0m\n\u001b[0;32m   4155\u001b[0m         \u001b[1;32mif\u001b[0m \u001b[0minplace\u001b[0m\u001b[1;33m:\u001b[0m\u001b[1;33m\u001b[0m\u001b[1;33m\u001b[0m\u001b[0m\n",
      "\u001b[1;32mC:\\ProgramData\\Anaconda3\\lib\\site-packages\\pandas\\core\\generic.py\u001b[0m in \u001b[0;36m_drop_axis\u001b[1;34m(self, labels, axis, level, errors)\u001b[0m\n\u001b[0;32m   4186\u001b[0m                 \u001b[0mnew_axis\u001b[0m \u001b[1;33m=\u001b[0m \u001b[0maxis\u001b[0m\u001b[1;33m.\u001b[0m\u001b[0mdrop\u001b[0m\u001b[1;33m(\u001b[0m\u001b[0mlabels\u001b[0m\u001b[1;33m,\u001b[0m \u001b[0mlevel\u001b[0m\u001b[1;33m=\u001b[0m\u001b[0mlevel\u001b[0m\u001b[1;33m,\u001b[0m \u001b[0merrors\u001b[0m\u001b[1;33m=\u001b[0m\u001b[0merrors\u001b[0m\u001b[1;33m)\u001b[0m\u001b[1;33m\u001b[0m\u001b[1;33m\u001b[0m\u001b[0m\n\u001b[0;32m   4187\u001b[0m             \u001b[1;32melse\u001b[0m\u001b[1;33m:\u001b[0m\u001b[1;33m\u001b[0m\u001b[1;33m\u001b[0m\u001b[0m\n\u001b[1;32m-> 4188\u001b[1;33m                 \u001b[0mnew_axis\u001b[0m \u001b[1;33m=\u001b[0m \u001b[0maxis\u001b[0m\u001b[1;33m.\u001b[0m\u001b[0mdrop\u001b[0m\u001b[1;33m(\u001b[0m\u001b[0mlabels\u001b[0m\u001b[1;33m,\u001b[0m \u001b[0merrors\u001b[0m\u001b[1;33m=\u001b[0m\u001b[0merrors\u001b[0m\u001b[1;33m)\u001b[0m\u001b[1;33m\u001b[0m\u001b[1;33m\u001b[0m\u001b[0m\n\u001b[0m\u001b[0;32m   4189\u001b[0m             \u001b[0mresult\u001b[0m \u001b[1;33m=\u001b[0m \u001b[0mself\u001b[0m\u001b[1;33m.\u001b[0m\u001b[0mreindex\u001b[0m\u001b[1;33m(\u001b[0m\u001b[1;33m**\u001b[0m\u001b[1;33m{\u001b[0m\u001b[0maxis_name\u001b[0m\u001b[1;33m:\u001b[0m \u001b[0mnew_axis\u001b[0m\u001b[1;33m}\u001b[0m\u001b[1;33m)\u001b[0m\u001b[1;33m\u001b[0m\u001b[1;33m\u001b[0m\u001b[0m\n\u001b[0;32m   4190\u001b[0m \u001b[1;33m\u001b[0m\u001b[0m\n",
      "\u001b[1;32mC:\\ProgramData\\Anaconda3\\lib\\site-packages\\pandas\\core\\indexes\\base.py\u001b[0m in \u001b[0;36mdrop\u001b[1;34m(self, labels, errors)\u001b[0m\n\u001b[0;32m   5589\u001b[0m         \u001b[1;32mif\u001b[0m \u001b[0mmask\u001b[0m\u001b[1;33m.\u001b[0m\u001b[0many\u001b[0m\u001b[1;33m(\u001b[0m\u001b[1;33m)\u001b[0m\u001b[1;33m:\u001b[0m\u001b[1;33m\u001b[0m\u001b[1;33m\u001b[0m\u001b[0m\n\u001b[0;32m   5590\u001b[0m             \u001b[1;32mif\u001b[0m \u001b[0merrors\u001b[0m \u001b[1;33m!=\u001b[0m \u001b[1;34m\"ignore\"\u001b[0m\u001b[1;33m:\u001b[0m\u001b[1;33m\u001b[0m\u001b[1;33m\u001b[0m\u001b[0m\n\u001b[1;32m-> 5591\u001b[1;33m                 \u001b[1;32mraise\u001b[0m \u001b[0mKeyError\u001b[0m\u001b[1;33m(\u001b[0m\u001b[1;34mf\"{labels[mask]} not found in axis\"\u001b[0m\u001b[1;33m)\u001b[0m\u001b[1;33m\u001b[0m\u001b[1;33m\u001b[0m\u001b[0m\n\u001b[0m\u001b[0;32m   5592\u001b[0m             \u001b[0mindexer\u001b[0m \u001b[1;33m=\u001b[0m \u001b[0mindexer\u001b[0m\u001b[1;33m[\u001b[0m\u001b[1;33m~\u001b[0m\u001b[0mmask\u001b[0m\u001b[1;33m]\u001b[0m\u001b[1;33m\u001b[0m\u001b[1;33m\u001b[0m\u001b[0m\n\u001b[0;32m   5593\u001b[0m         \u001b[1;32mreturn\u001b[0m \u001b[0mself\u001b[0m\u001b[1;33m.\u001b[0m\u001b[0mdelete\u001b[0m\u001b[1;33m(\u001b[0m\u001b[0mindexer\u001b[0m\u001b[1;33m)\u001b[0m\u001b[1;33m\u001b[0m\u001b[1;33m\u001b[0m\u001b[0m\n",
      "\u001b[1;31mKeyError\u001b[0m: \"['column_number_in_grid' 'row_number_in_grid'] not found in axis\""
     ]
    }
   ],
   "source": [
    "df['column_number_in_grid'] = df['latitude'].apply(row_to_grid_latitude, args=(grid.latitude_cells_nr, \n",
    "                                                                               grid.latitude_cell_length, \n",
    "                                                                               CITY_BORDERS))\n",
    "\n",
    "df['row_number_in_grid'] = df['longitude'].apply(row_to_grid_longitude, args=(grid.longitude_cells_nr, \n",
    "                                                                               grid.longitude_cell_length, \n",
    "                                                                               CITY_BORDERS))\n",
    "\n",
    "df['cell_number'] = df.apply(lambda x: grid_row_and_column_to_cell_number(x['column_number_in_grid'],\n",
    "                                                                         x['row_number_in_grid'],\n",
    "                                                                         grid.longitude_cells_nr),axis = 1)\n",
    "\n",
    "\n",
    "df = df.drop(['column_number_in_grid', 'row_number_in_grid'], axis=0).dropna()"
   ]
  },
  {
   "cell_type": "code",
   "execution_count": 11,
   "id": "c23319ff",
   "metadata": {},
   "outputs": [
    {
     "ename": "ValueError",
     "evalue": "cannot convert float NaN to integer",
     "output_type": "error",
     "traceback": [
      "\u001b[1;31m---------------------------------------------------------------------------\u001b[0m",
      "\u001b[1;31mValueError\u001b[0m                                Traceback (most recent call last)",
      "\u001b[1;32m<ipython-input-11-1ae3e1288248>\u001b[0m in \u001b[0;36m<module>\u001b[1;34m\u001b[0m\n\u001b[1;32m----> 1\u001b[1;33m \u001b[0mgrid\u001b[0m\u001b[1;33m.\u001b[0m\u001b[0mfeed_list_of_cell_numbers\u001b[0m\u001b[1;33m(\u001b[0m\u001b[0mlist\u001b[0m\u001b[1;33m(\u001b[0m\u001b[0mdf\u001b[0m\u001b[1;33m.\u001b[0m\u001b[0mcell_number\u001b[0m\u001b[1;33m)\u001b[0m\u001b[1;33m)\u001b[0m\u001b[1;33m\u001b[0m\u001b[1;33m\u001b[0m\u001b[0m\n\u001b[0m",
      "\u001b[1;32m<ipython-input-5-0ecbc90101c1>\u001b[0m in \u001b[0;36mfeed_list_of_cell_numbers\u001b[1;34m(self, cell_numbers)\u001b[0m\n\u001b[0;32m     81\u001b[0m \u001b[1;33m\u001b[0m\u001b[0m\n\u001b[0;32m     82\u001b[0m         \u001b[1;32mfor\u001b[0m \u001b[0mnumber\u001b[0m \u001b[1;32min\u001b[0m \u001b[0mcell_numbers\u001b[0m\u001b[1;33m:\u001b[0m\u001b[1;33m\u001b[0m\u001b[1;33m\u001b[0m\u001b[0m\n\u001b[1;32m---> 83\u001b[1;33m             \u001b[0mself\u001b[0m\u001b[1;33m.\u001b[0m\u001b[0mcell_list\u001b[0m\u001b[1;33m[\u001b[0m\u001b[0mint\u001b[0m\u001b[1;33m(\u001b[0m\u001b[0mnumber\u001b[0m\u001b[1;33m)\u001b[0m\u001b[1;33m]\u001b[0m\u001b[1;33m.\u001b[0m\u001b[0mnumber_of_locations\u001b[0m \u001b[1;33m+=\u001b[0m \u001b[1;36m1\u001b[0m\u001b[1;33m\u001b[0m\u001b[1;33m\u001b[0m\u001b[0m\n\u001b[0m\u001b[0;32m     84\u001b[0m \u001b[1;33m\u001b[0m\u001b[0m\n\u001b[0;32m     85\u001b[0m \u001b[1;33m\u001b[0m\u001b[0m\n",
      "\u001b[1;31mValueError\u001b[0m: cannot convert float NaN to integer"
     ]
    }
   ],
   "source": [
    "grid.feed_list_of_cell_numbers(list(df.cell_number))"
   ]
  },
  {
   "cell_type": "code",
   "execution_count": null,
   "id": "0066a986",
   "metadata": {},
   "outputs": [],
   "source": [
    "wow = pd.Series([grid.cell_list[i].number_of_locations for i in range(grid.latitude_cells_nr*grid.longitude_cells_nr)])\n",
    "wow = pd.Series([wow[i] for i in range(len(wow)) if wow[i] < 1000])"
   ]
  },
  {
   "cell_type": "code",
   "execution_count": null,
   "id": "8cbea26f",
   "metadata": {},
   "outputs": [],
   "source": [
    "wow.plot(kind='hist', bins=20)"
   ]
  },
  {
   "cell_type": "code",
   "execution_count": null,
   "id": "3d709b28",
   "metadata": {},
   "outputs": [],
   "source": [
    "grid.vertexize(400)"
   ]
  }
 ],
 "metadata": {
  "kernelspec": {
   "display_name": "Python 3",
   "language": "python",
   "name": "python3"
  },
  "language_info": {
   "codemirror_mode": {
    "name": "ipython",
    "version": 3
   },
   "file_extension": ".py",
   "mimetype": "text/x-python",
   "name": "python",
   "nbconvert_exporter": "python",
   "pygments_lexer": "ipython3",
   "version": "3.8.8"
  }
 },
 "nbformat": 4,
 "nbformat_minor": 5
}

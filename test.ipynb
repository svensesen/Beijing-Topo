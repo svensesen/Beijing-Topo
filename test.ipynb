{
 "cells": [
  {
   "cell_type": "code",
   "execution_count": 15,
   "id": "69c69d26",
   "metadata": {},
   "outputs": [],
   "source": [
    "import pprint\n",
    "pp = pprint.PrettyPrinter(indent=4)\n",
    "\n",
    "import pandas as pd\n",
    "import matplotlib.pyplot as plt\n",
    "from matplotlib.widgets import Slider\n",
    "from Graph import *\n",
    "from Azimuth import *\n",
    "from math import sqrt\n",
    "\n",
    "import seaborn as sns\n",
    "import numpy as np\n",
    "\n"
   ]
  },
  {
   "cell_type": "markdown",
   "id": "59f2b591",
   "metadata": {},
   "source": [
    "## Test the Graph class"
   ]
  },
  {
   "cell_type": "code",
   "execution_count": 2,
   "id": "f37766b7",
   "metadata": {},
   "outputs": [
    {
     "name": "stdout",
     "output_type": "stream",
     "text": [
      "346.10049260270813 123941.99560434723 (-0.8514343297185806, -0.9452436335558858)\n"
     ]
    }
   ],
   "source": [
    "vertex1 = Vertex(60, 2, 0)\n",
    "vertex2 = Vertex(61, 3, 0)\n",
    "\n",
    "edge = Edge([vertex1, vertex2])\n",
    "\n",
    "print(edge.angle, edge.length, edge.intermediate_point())"
   ]
  },
  {
   "cell_type": "code",
   "execution_count": 3,
   "id": "30553028",
   "metadata": {},
   "outputs": [],
   "source": [
    "graph = Graph(warnings = True)\n",
    "\n",
    "last_vertex = Vertex(-1, -1, 0, warnings = True)\n",
    "graph.add_vertices(last_vertex)\n",
    "\n",
    "for i in range(0,10):\n",
    "    new_vertex = Vertex(i, i, 0, warnings = True)\n",
    "    edge = Edge(vertices = [last_vertex, new_vertex], warnings = True)\n",
    "    graph.add_vertices(new_vertex)\n",
    "    last_vertex = new_vertex"
   ]
  },
  {
   "cell_type": "code",
   "execution_count": 4,
   "id": "8128395c",
   "metadata": {},
   "outputs": [
    {
     "name": "stdout",
     "output_type": "stream",
     "text": [
      "{   <Vertex: -1,-1,0>,\n",
      "    <Vertex: 0,0,0>,\n",
      "    <Vertex: 1,1,0>,\n",
      "    <Vertex: 2,2,0>,\n",
      "    <Vertex: 3,3,0>,\n",
      "    <Vertex: 4,4,0>,\n",
      "    <Vertex: 5,5,0>,\n",
      "    <Vertex: 6,6,0>,\n",
      "    <Vertex: 7,7,0>,\n",
      "    <Vertex: 8,8,0>,\n",
      "    <Vertex: 9,9,0>}\n",
      "{   <Edge: (<Vertex: 0,0,0>) -> (<Vertex: 1,1,0>)>,\n",
      "    <Edge: (<Vertex: -1,-1,0>) -> (<Vertex: 0,0,0>)>,\n",
      "    <Edge: (<Vertex: 1,1,0>) -> (<Vertex: 2,2,0>)>,\n",
      "    <Edge: (<Vertex: 2,2,0>) -> (<Vertex: 3,3,0>)>,\n",
      "    <Edge: (<Vertex: 3,3,0>) -> (<Vertex: 4,4,0>)>,\n",
      "    <Edge: (<Vertex: 4,4,0>) -> (<Vertex: 5,5,0>)>,\n",
      "    <Edge: (<Vertex: 5,5,0>) -> (<Vertex: 6,6,0>)>,\n",
      "    <Edge: (<Vertex: 6,6,0>) -> (<Vertex: 7,7,0>)>,\n",
      "    <Edge: (<Vertex: 7,7,0>) -> (<Vertex: 8,8,0>)>,\n",
      "    <Edge: (<Vertex: 8,8,0>) -> (<Vertex: 9,9,0>)>}\n",
      "{   <Vertex: 0,0,0>,\n",
      "    <Vertex: 1,1,0>,\n",
      "    <Vertex: 2,2,0>,\n",
      "    <Vertex: 3,3,0>,\n",
      "    <Vertex: 4,4,0>,\n",
      "    <Vertex: 5,5,0>,\n",
      "    <Vertex: 6,6,0>,\n",
      "    <Vertex: 7,7,0>,\n",
      "    <Vertex: 8,8,0>,\n",
      "    <Vertex: 9,9,0>}\n",
      "{   <Edge: (<Vertex: 0,0,0>) -> (<Vertex: 1,1,0>)>,\n",
      "    <Edge: (<Vertex: -1,-1,0>) -> (<Vertex: 0,0,0>)>,\n",
      "    <Edge: (<Vertex: 1,1,0>) -> (<Vertex: 2,2,0>)>,\n",
      "    <Edge: (<Vertex: 2,2,0>) -> (<Vertex: 3,3,0>)>,\n",
      "    <Edge: (<Vertex: 3,3,0>) -> (<Vertex: 4,4,0>)>,\n",
      "    <Edge: (<Vertex: 4,4,0>) -> (<Vertex: 5,5,0>)>,\n",
      "    <Edge: (<Vertex: 5,5,0>) -> (<Vertex: 6,6,0>)>,\n",
      "    <Edge: (<Vertex: 6,6,0>) -> (<Vertex: 7,7,0>)>,\n",
      "    <Edge: (<Vertex: 7,7,0>) -> (<Vertex: 8,8,0>)>,\n",
      "    <Edge: (<Vertex: 8,8,0>) -> (<Vertex: 9,9,0>)>}\n",
      "''\n",
      "{   <Vertex: 1,1,0>,\n",
      "    <Vertex: 2,2,0>,\n",
      "    <Vertex: 3,3,0>,\n",
      "    <Vertex: 4,4,0>,\n",
      "    <Vertex: 5,5,0>,\n",
      "    <Vertex: 6,6,0>,\n",
      "    <Vertex: 7,7,0>,\n",
      "    <Vertex: 8,8,0>,\n",
      "    <Vertex: 9,9,0>}\n",
      "{   <Edge: (<Vertex: 0,0,0>) -> (<Vertex: 1,1,0>)>,\n",
      "    <Edge: (<Vertex: 1,1,0>) -> (<Vertex: 2,2,0>)>,\n",
      "    <Edge: (<Vertex: 2,2,0>) -> (<Vertex: 3,3,0>)>,\n",
      "    <Edge: (<Vertex: 3,3,0>) -> (<Vertex: 4,4,0>)>,\n",
      "    <Edge: (<Vertex: 4,4,0>) -> (<Vertex: 5,5,0>)>,\n",
      "    <Edge: (<Vertex: 5,5,0>) -> (<Vertex: 6,6,0>)>,\n",
      "    <Edge: (<Vertex: 6,6,0>) -> (<Vertex: 7,7,0>)>,\n",
      "    <Edge: (<Vertex: 7,7,0>) -> (<Vertex: 8,8,0>)>,\n",
      "    <Edge: (<Vertex: 8,8,0>) -> (<Vertex: 9,9,0>)>}\n",
      "''\n",
      "{   <Vertex: 2,2,0>,\n",
      "    <Vertex: 3,3,0>,\n",
      "    <Vertex: 4,4,0>,\n",
      "    <Vertex: 5,5,0>,\n",
      "    <Vertex: 6,6,0>,\n",
      "    <Vertex: 7,7,0>,\n",
      "    <Vertex: 8,8,0>,\n",
      "    <Vertex: 9,9,0>}\n",
      "{   <Edge: (<Vertex: 1,1,0>) -> (<Vertex: 2,2,0>)>,\n",
      "    <Edge: (<Vertex: 2,2,0>) -> (<Vertex: 3,3,0>)>,\n",
      "    <Edge: (<Vertex: 3,3,0>) -> (<Vertex: 4,4,0>)>,\n",
      "    <Edge: (<Vertex: 4,4,0>) -> (<Vertex: 5,5,0>)>,\n",
      "    <Edge: (<Vertex: 5,5,0>) -> (<Vertex: 6,6,0>)>,\n",
      "    <Edge: (<Vertex: 6,6,0>) -> (<Vertex: 7,7,0>)>,\n",
      "    <Edge: (<Vertex: 7,7,0>) -> (<Vertex: 8,8,0>)>,\n",
      "    <Edge: (<Vertex: 8,8,0>) -> (<Vertex: 9,9,0>)>}\n",
      "''\n",
      "{   <Vertex: 3,3,0>,\n",
      "    <Vertex: 4,4,0>,\n",
      "    <Vertex: 5,5,0>,\n",
      "    <Vertex: 6,6,0>,\n",
      "    <Vertex: 7,7,0>,\n",
      "    <Vertex: 8,8,0>,\n",
      "    <Vertex: 9,9,0>}\n",
      "{   <Edge: (<Vertex: 2,2,0>) -> (<Vertex: 3,3,0>)>,\n",
      "    <Edge: (<Vertex: 3,3,0>) -> (<Vertex: 4,4,0>)>,\n",
      "    <Edge: (<Vertex: 4,4,0>) -> (<Vertex: 5,5,0>)>,\n",
      "    <Edge: (<Vertex: 5,5,0>) -> (<Vertex: 6,6,0>)>,\n",
      "    <Edge: (<Vertex: 6,6,0>) -> (<Vertex: 7,7,0>)>,\n",
      "    <Edge: (<Vertex: 7,7,0>) -> (<Vertex: 8,8,0>)>,\n",
      "    <Edge: (<Vertex: 8,8,0>) -> (<Vertex: 9,9,0>)>}\n",
      "''\n",
      "{   <Vertex: 4,4,0>,\n",
      "    <Vertex: 5,5,0>,\n",
      "    <Vertex: 6,6,0>,\n",
      "    <Vertex: 7,7,0>,\n",
      "    <Vertex: 8,8,0>,\n",
      "    <Vertex: 9,9,0>}\n",
      "{   <Edge: (<Vertex: 3,3,0>) -> (<Vertex: 4,4,0>)>,\n",
      "    <Edge: (<Vertex: 4,4,0>) -> (<Vertex: 5,5,0>)>,\n",
      "    <Edge: (<Vertex: 5,5,0>) -> (<Vertex: 6,6,0>)>,\n",
      "    <Edge: (<Vertex: 6,6,0>) -> (<Vertex: 7,7,0>)>,\n",
      "    <Edge: (<Vertex: 7,7,0>) -> (<Vertex: 8,8,0>)>,\n",
      "    <Edge: (<Vertex: 8,8,0>) -> (<Vertex: 9,9,0>)>}\n",
      "''\n"
     ]
    }
   ],
   "source": [
    "pp.pprint(graph.vertices)\n",
    "pp.pprint(graph.edges)\n",
    "    \n",
    "for i in range(5):\n",
    "    cur_vertex = next(iter(graph.vertices))\n",
    "    cur_vertex.set_graph(None)\n",
    "\n",
    "    pp.pprint(graph.vertices)\n",
    "    pp.pprint(graph.edges)\n",
    "    pp.pprint(\"\")"
   ]
  },
  {
   "cell_type": "code",
   "execution_count": 5,
   "id": "1ce25432",
   "metadata": {},
   "outputs": [
    {
     "name": "stdout",
     "output_type": "stream",
     "text": [
      "346.10049260270813\n",
      "13.89950739729187\n"
     ]
    }
   ],
   "source": [
    "print(calculate_angle(60, 61, 2, 3))\n",
    "print(calculate_angle(60, 61, 3, 2))"
   ]
  },
  {
   "cell_type": "markdown",
   "id": "a44c4459",
   "metadata": {},
   "source": [
    "## Angle graphifying"
   ]
  },
  {
   "cell_type": "code",
   "execution_count": 6,
   "id": "6d610e66",
   "metadata": {},
   "outputs": [],
   "source": [
    "df = pd.read_csv(\"presets/0.csv\")"
   ]
  },
  {
   "cell_type": "code",
   "execution_count": 7,
   "id": "3614a566",
   "metadata": {},
   "outputs": [],
   "source": [
    "tra = df[\"trajectory\"].unique()[0]\n",
    "dft = df[df[\"trajectory\"] == tra]"
   ]
  },
  {
   "cell_type": "code",
   "execution_count": null,
   "id": "aa29bb72",
   "metadata": {},
   "outputs": [],
   "source": [
    "# Additional idea: combine edges with similar angles\n",
    "# For report we attempt to model the topology of a city (vertices, edges and planes) of a city from geographical data"
   ]
  },
  {
   "cell_type": "markdown",
   "id": "0a982545",
   "metadata": {},
   "source": [
    "### Testing division"
   ]
  },
  {
   "cell_type": "code",
   "execution_count": null,
   "id": "541dab28",
   "metadata": {},
   "outputs": [],
   "source": [
    "# divide latitude by 69 and longitude by 52"
   ]
  },
  {
   "cell_type": "code",
   "execution_count": 8,
   "id": "68a6ec4b",
   "metadata": {
    "scrolled": true
   },
   "outputs": [
    {
     "name": "stderr",
     "output_type": "stream",
     "text": [
      "C:\\ProgramData\\Anaconda3\\lib\\site-packages\\pandas\\core\\indexing.py:1597: SettingWithCopyWarning: \n",
      "A value is trying to be set on a copy of a slice from a DataFrame.\n",
      "Try using .loc[row_indexer,col_indexer] = value instead\n",
      "\n",
      "See the caveats in the documentation: https://pandas.pydata.org/pandas-docs/stable/user_guide/indexing.html#returning-a-view-versus-a-copy\n",
      "  self.obj[key] = value\n",
      "C:\\ProgramData\\Anaconda3\\lib\\site-packages\\pandas\\core\\indexing.py:1676: SettingWithCopyWarning: \n",
      "A value is trying to be set on a copy of a slice from a DataFrame.\n",
      "Try using .loc[row_indexer,col_indexer] = value instead\n",
      "\n",
      "See the caveats in the documentation: https://pandas.pydata.org/pandas-docs/stable/user_guide/indexing.html#returning-a-view-versus-a-copy\n",
      "  self._setitem_single_column(ilocs[0], value, pi)\n"
     ]
    },
    {
     "data": {
      "text/plain": [
       "<matplotlib.collections.PathCollection at 0x1e5a6a51850>"
      ]
     },
     "execution_count": 8,
     "metadata": {},
     "output_type": "execute_result"
    },
    {
     "data": {
      "image/png": "[encoded data removed]",
      "text/plain": [
       "<Figure size 504x504 with 1 Axes>"
      ]
     },
     "metadata": {
      "needs_background": "light"
     },
     "output_type": "display_data"
    }
   ],
   "source": [
    "dft.loc[:, \"latitude_change\"] = dft.loc[:,\"latitude\"] - dft.loc[:,\"latitude\"].shift(1)\n",
    "dft.loc[:, \"longitude_change\"] = dft.loc[:,\"longitude\"] - dft.loc[:,\"longitude\"].shift(1)\n",
    "\n",
    "def pythago(lat, long):\n",
    "    return sqrt(lat*lat + long*long)\n",
    "\n",
    "dft.loc[:,[\"change\"]] = dft.apply(lambda x: pythago(x.latitude_change, x.longitude_change), axis=1)\n",
    "\n",
    "maximum = dft.loc[:,\"change\"].mean()*10\n",
    "fig, ax = plt.subplots(figsize = (7,7))\n",
    "ax.scatter(dft.latitude, dft.longitude, zorder=1, alpha= 0.2, c='b', s=10)\n",
    "\n",
    "df1 = dft[dft[\"change\"] > dft[\"change\"].mean()*10]\n",
    "ax.scatter(df1.latitude, df1.longitude, zorder=1, alpha=1, c='r', s=10)\n",
    "\n",
    "q25 = dft[\"change\"].quantile(0.25)\n",
    "q75 = dft[\"change\"].quantile(0.75)\n",
    "df2 = dft[dft[\"change\"] > (q75 + 1.5*(q75 + q25))]\n",
    "ax.scatter(df2.latitude, df2.longitude, zorder=1, alpha=1, c='g', s=10)"
   ]
  },
  {
   "cell_type": "markdown",
   "id": "c178da58",
   "metadata": {},
   "source": [
    "### The actual graph"
   ]
  },
  {
   "cell_type": "code",
   "execution_count": 16,
   "id": "25aa7b44",
   "metadata": {},
   "outputs": [
    {
     "name": "stdout",
     "output_type": "stream",
     "text": [
      "reduced from 907 to 413 points\n"
     ]
    },
    {
     "data": {
      "image/png": "[encoded data removed]",
      "text/plain": [
       "<Figure size 504x504 with 1 Axes>"
      ]
     },
     "metadata": {
      "needs_background": "light"
     },
     "output_type": "display_data"
    }
   ],
   "source": [
    "graph = create_azimuth_graph(dft, method = 4, splitting_method = 2, distance_multiplier = 5, max_angle_change = 15)\n",
    "\n",
    "fig, ax = plt.subplots(figsize = (7,7))\n",
    "ax.scatter(dft.latitude, dft.longitude, zorder=1, alpha= 0.2, c='b', s=10)\n",
    "\n",
    "for edge in graph.edges:\n",
    "    lat1 = min(edge.vertices).latitude\n",
    "    long1 = min(edge.vertices).longitude\n",
    "    \n",
    "    lat2 = max(edge.vertices).latitude\n",
    "    long2 = max(edge.vertices).longitude\n",
    "    \n",
    "    plt.plot([lat1, lat2], [long1, long2], marker = 'o')\n",
    "\n",
    "star_vertices = [vertex for vertex in graph.vertices if len(vertex.edges) == 1]\n",
    "for vertex in star_vertices:\n",
    "    ax.plot(vertex.latitude, vertex.longitude, markersize=50)\n",
    "    \n",
    "ax = plt.gca()\n",
    "#ax.set_xlim([40.0035, 40.0115])\n",
    "#ax.set_ylim([116.3175, 116.3245])\n",
    "print(f\"reduced from {len(dft)} to {len(graph.vertices)} points\")"
   ]
  },
  {
   "cell_type": "code",
   "execution_count": null,
   "id": "a7eacdfe",
   "metadata": {},
   "outputs": [],
   "source": [
    "# change gaps into different trajectory\n",
    "# add distance to angle calculation"
   ]
  }
 ],
 "metadata": {
  "kernelspec": {
   "display_name": "Python 3",
   "language": "python",
   "name": "python3"
  },
  "language_info": {
   "codemirror_mode": {
    "name": "ipython",
    "version": 3
   },
   "file_extension": ".py",
   "mimetype": "text/x-python",
   "name": "python",
   "nbconvert_exporter": "python",
   "pygments_lexer": "ipython3",
   "version": "3.8.8"
  }
 },
 "nbformat": 4,
 "nbformat_minor": 5
}

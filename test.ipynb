{
 "cells": [
  {
   "cell_type": "code",
   "execution_count": 1,
   "id": "69c69d26",
   "metadata": {},
   "outputs": [],
   "source": [
    "import pprint\n",
    "pp = pprint.PrettyPrinter(indent=4)\n",
    "\n",
    "import pandas as pd\n",
    "from Graph import *"
   ]
  },
  {
   "cell_type": "markdown",
   "id": "59f2b591",
   "metadata": {},
   "source": [
    "## Test the Graph class"
   ]
  },
  {
   "cell_type": "code",
   "execution_count": null,
   "id": "f37766b7",
   "metadata": {},
   "outputs": [],
   "source": [
    "vertex1 = Vertex(60, 2, 0)\n",
    "vertex2 = Vertex(61, 3, 0)\n",
    "\n",
    "edge = Edge([vertex1, vertex2])\n",
    "\n",
    "print(edge.angle, edge.length, edge.intermediate_point())"
   ]
  },
  {
   "cell_type": "code",
   "execution_count": null,
   "id": "30553028",
   "metadata": {},
   "outputs": [],
   "source": [
    "graph = Graph(warnings = True)\n",
    "\n",
    "last_vertex = Vertex(-1, -1, 0, warnings = True)\n",
    "graph.add_vertices(last_vertex)\n",
    "\n",
    "for i in range(0,10):\n",
    "    new_vertex = Vertex(i, i, 0, warnings = True)\n",
    "    edge = Edge(vertices = [last_vertex, new_vertex], warnings = True)\n",
    "    graph.add_vertices(new_vertex)\n",
    "    last_vertex = new_vertex"
   ]
  },
  {
   "cell_type": "code",
   "execution_count": null,
   "id": "8128395c",
   "metadata": {},
   "outputs": [],
   "source": [
    "pp.pprint(graph.vertices)\n",
    "pp.pprint(graph.edges)\n",
    "    \n",
    "for i in range(5):\n",
    "    cur_vertex = next(iter(graph.vertices))\n",
    "    cur_vertex.set_graph(None)\n",
    "\n",
    "    pp.pprint(graph.vertices)\n",
    "    pp.pprint(graph.edges)\n",
    "    pp.pprint(\"\")"
   ]
  },
  {
   "cell_type": "markdown",
   "id": "a44c4459",
   "metadata": {},
   "source": [
    "## Angle graphifying"
   ]
  },
  {
   "cell_type": "code",
   "execution_count": 2,
   "id": "6d610e66",
   "metadata": {},
   "outputs": [],
   "source": [
    "df = pd.read_csv(\"presets/0.csv\")"
   ]
  },
  {
   "cell_type": "code",
   "execution_count": 3,
   "id": "3614a566",
   "metadata": {},
   "outputs": [],
   "source": [
    "tra = df[\"trajectory\"][0]\n",
    "dft = df[df[\"trajectory\"] == tra]"
   ]
  },
  {
   "cell_type": "code",
   "execution_count": 6,
   "id": "88a0a02b",
   "metadata": {},
   "outputs": [
    {
     "name": "stdout",
     "output_type": "stream",
     "text": [
      "{<Vertex: 40.009328,116.320887,25>, <Vertex: 39.984683,116.31845,150>, <Vertex: 39.984686,116.318417,150>}\n",
      "{<Edge: (<Vertex: 39.984686,116.318417,150>) -> (<Vertex: 39.984683,116.31845,150>)>, <Edge: (<Vertex: 39.984686,116.318417,150>) -> (<Vertex: 40.009328,116.320887,25>)>}\n"
     ]
    }
   ],
   "source": [
    "max_angle_change = 15\n",
    "\n",
    "graph = Graph()\n",
    "\n",
    "latitude = dft.loc[0, \"latitude\"]\n",
    "longitude = dft.loc[0, \"longitude\"]\n",
    "altitude = dft.loc[0, \"altitude\"]\n",
    "\n",
    "last_vertex = Vertex(latitude, longitude, altitude, graph)\n",
    "last_latitude = dft.loc[1, \"latitude\"]\n",
    "last_longitude = dft.loc[1, \"longitude\"]\n",
    "last_altitude = dft.loc[1, \"altitude\"]\n",
    "\n",
    "last_angle = last_vertex.angle_to_point(last_latitude, last_longitude)\n",
    "\n",
    "for i in range(2,len(dft)):\n",
    "    cur_latitude = dft.loc[i, \"latitude\"]\n",
    "    cur_longitude = dft.loc[i, \"longitude\"]   \n",
    "    cur_altitude = dft.loc[i, \"altitude\"]\n",
    "    \n",
    "    cur_angle = calculate_angle(last_latitude, last_longitude, cur_latitude, cur_longitude)\n",
    "    \n",
    "    if abs(last_angle-cur_angle) > max_angle_change:\n",
    "        new_vertex = Vertex(last_latitude, last_longitude, last_altitude, graph)\n",
    "        Edge([last_vertex, new_vertex])\n",
    "        \n",
    "        last_angle = cur_angle\n",
    "        last_vertex = new_vertex\n",
    "    \n",
    "    last_latitude = cur_latitude\n",
    "    last_longitude = cur_longitude\n",
    "    last_altitude = cur_altitude\n",
    "    \n",
    "new_vertex = Vertex(last_latitude, last_longitude, last_altitude, graph)\n",
    "Edge([last_vertex, new_vertex])\n",
    "\n",
    "print(graph.vertices)\n",
    "print(graph.edges)"
   ]
  }
 ],
 "metadata": {
  "kernelspec": {
   "display_name": "Python 3",
   "language": "python",
   "name": "python3"
  },
  "language_info": {
   "codemirror_mode": {
    "name": "ipython",
    "version": 3
   },
   "file_extension": ".py",
   "mimetype": "text/x-python",
   "name": "python",
   "nbconvert_exporter": "python",
   "pygments_lexer": "ipython3",
   "version": "3.8.8"
  }
 },
 "nbformat": 4,
 "nbformat_minor": 5
}

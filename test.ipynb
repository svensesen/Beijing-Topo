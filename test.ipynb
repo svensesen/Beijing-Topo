{
 "cells": [
  {
   "cell_type": "code",
   "execution_count": 1,
   "id": "69c69d26",
   "metadata": {},
   "outputs": [],
   "source": [
    "import pprint\n",
    "pp = pprint.PrettyPrinter(indent=4)\n",
    "\n",
    "import pandas as pd\n",
    "import matplotlib.pyplot as plt\n",
    "from Graph import *\n",
    "from math import sqrt\n",
    "\n",
    "import seaborn as sns\n",
    "import numpy as np"
   ]
  },
  {
   "cell_type": "markdown",
   "id": "59f2b591",
   "metadata": {},
   "source": [
    "## Test the Graph class"
   ]
  },
  {
   "cell_type": "code",
   "execution_count": null,
   "id": "f37766b7",
   "metadata": {},
   "outputs": [],
   "source": [
    "vertex1 = Vertex(60, 2, 0)\n",
    "vertex2 = Vertex(61, 3, 0)\n",
    "\n",
    "edge = Edge([vertex1, vertex2])\n",
    "\n",
    "print(edge.angle, edge.length, edge.intermediate_point())"
   ]
  },
  {
   "cell_type": "code",
   "execution_count": null,
   "id": "30553028",
   "metadata": {},
   "outputs": [],
   "source": [
    "graph = Graph(warnings = True)\n",
    "\n",
    "last_vertex = Vertex(-1, -1, 0, warnings = True)\n",
    "graph.add_vertices(last_vertex)\n",
    "\n",
    "for i in range(0,10):\n",
    "    new_vertex = Vertex(i, i, 0, warnings = True)\n",
    "    edge = Edge(vertices = [last_vertex, new_vertex], warnings = True)\n",
    "    graph.add_vertices(new_vertex)\n",
    "    last_vertex = new_vertex"
   ]
  },
  {
   "cell_type": "code",
   "execution_count": null,
   "id": "8128395c",
   "metadata": {},
   "outputs": [],
   "source": [
    "pp.pprint(graph.vertices)\n",
    "pp.pprint(graph.edges)\n",
    "    \n",
    "for i in range(5):\n",
    "    cur_vertex = next(iter(graph.vertices))\n",
    "    cur_vertex.set_graph(None)\n",
    "\n",
    "    pp.pprint(graph.vertices)\n",
    "    pp.pprint(graph.edges)\n",
    "    pp.pprint(\"\")"
   ]
  },
  {
   "cell_type": "code",
   "execution_count": null,
   "id": "1ce25432",
   "metadata": {},
   "outputs": [],
   "source": [
    "print(calculate_angle(60, 61, 2, 3))\n",
    "print(calculate_angle(60, 61, 3, 2))"
   ]
  },
  {
   "cell_type": "markdown",
   "id": "a44c4459",
   "metadata": {},
   "source": [
    "## Angle graphifying"
   ]
  },
  {
   "cell_type": "code",
   "execution_count": 2,
   "id": "6d610e66",
   "metadata": {},
   "outputs": [],
   "source": [
    "df = pd.read_csv(\"presets/0.csv\")"
   ]
  },
  {
   "cell_type": "code",
   "execution_count": 3,
   "id": "3614a566",
   "metadata": {},
   "outputs": [],
   "source": [
    "tra = df[\"trajectory\"].unique()[0]\n",
    "dft = df[df[\"trajectory\"] == tra]"
   ]
  },
  {
   "cell_type": "code",
   "execution_count": 11,
   "id": "c6faef0f",
   "metadata": {},
   "outputs": [
    {
     "name": "stdout",
     "output_type": "stream",
     "text": [
      "39.984683 39.984686 116.31845 116.318417\n",
      "-7.895692034947103\n",
      "5.1944289188580575\n",
      "\n",
      "39.984686 39.984688 116.318417 116.318385\n",
      "-5.446236596963729\n",
      "3.5763343670769037\n",
      "\n",
      "39.984688 39.984655 116.318385 116.318263\n",
      "22.428000776530723\n",
      "15.135835504053896\n",
      "\n",
      "39.984655 39.984611 116.318263 116.318026\n",
      "15.82064931570045\n",
      "10.517445787105757\n",
      "\n",
      "39.984611 39.984608 116.318026 116.317761\n",
      "0.9953204563904592\n",
      "0.6486037587924398\n",
      "\n",
      "39.984608 39.984563 116.317761 116.317517\n",
      "15.72221035720304\n",
      "10.449428157398915\n",
      "\n",
      "39.984563 39.984539 116.317517 116.317294\n",
      "9.330879465560542\n",
      "6.142718153447093\n",
      "\n",
      "39.984539 39.984606 116.317294 116.317065\n",
      "-24.052630529548537\n",
      "16.308231335395895\n",
      "\n",
      "39.984606 39.984568 116.317065 116.316911\n",
      "20.63504096153173\n",
      "13.861027562212106\n",
      "\n"
     ]
    }
   ],
   "source": [
    "for i in range(1, 10):\n",
    "    lat0 = dft.iloc[i-1, 0]\n",
    "    long0 = dft.iloc[i-1, 1]\n",
    "    \n",
    "    lat1 = dft.iloc[i, 0]\n",
    "    long1 = dft.iloc[i, 1]\n",
    "    \n",
    "    print(lat0, lat1, long0, long1)\n",
    "    print(calculate_angle(lat0, lat1, long0, long1)-90)\n",
    "    print(short_angle(lat0, lat1, long0, long1))\n",
    "    print(\"\")"
   ]
  },
  {
   "cell_type": "code",
   "execution_count": null,
   "id": "aa29bb72",
   "metadata": {},
   "outputs": [],
   "source": [
    "# Additional idea: combine edges with similar angles\n",
    "# For report we attempt to model the topology of a city (vertices, edges and planes) of a city from geographical data"
   ]
  },
  {
   "cell_type": "markdown",
   "id": "0a982545",
   "metadata": {},
   "source": [
    "### Testing division"
   ]
  },
  {
   "cell_type": "code",
   "execution_count": null,
   "id": "541dab28",
   "metadata": {},
   "outputs": [],
   "source": [
    "# divide latitude by 69 and longitude by 52"
   ]
  },
  {
   "cell_type": "code",
   "execution_count": 12,
   "id": "68a6ec4b",
   "metadata": {
    "scrolled": true
   },
   "outputs": [
    {
     "name": "stderr",
     "output_type": "stream",
     "text": [
      "C:\\ProgramData\\Anaconda3\\lib\\site-packages\\pandas\\core\\indexing.py:1597: SettingWithCopyWarning: \n",
      "A value is trying to be set on a copy of a slice from a DataFrame.\n",
      "Try using .loc[row_indexer,col_indexer] = value instead\n",
      "\n",
      "See the caveats in the documentation: https://pandas.pydata.org/pandas-docs/stable/user_guide/indexing.html#returning-a-view-versus-a-copy\n",
      "  self.obj[key] = value\n",
      "C:\\ProgramData\\Anaconda3\\lib\\site-packages\\pandas\\core\\indexing.py:1676: SettingWithCopyWarning: \n",
      "A value is trying to be set on a copy of a slice from a DataFrame.\n",
      "Try using .loc[row_indexer,col_indexer] = value instead\n",
      "\n",
      "See the caveats in the documentation: https://pandas.pydata.org/pandas-docs/stable/user_guide/indexing.html#returning-a-view-versus-a-copy\n",
      "  self._setitem_single_column(ilocs[0], value, pi)\n"
     ]
    },
    {
     "data": {
      "text/plain": [
       "<matplotlib.collections.PathCollection at 0x27b6113e820>"
      ]
     },
     "execution_count": 12,
     "metadata": {},
     "output_type": "execute_result"
    },
    {
     "data": {
      "image/png": "[encoded data removed]",
      "text/plain": [
       "<Figure size 504x504 with 1 Axes>"
      ]
     },
     "metadata": {
      "needs_background": "light"
     },
     "output_type": "display_data"
    }
   ],
   "source": [
    "maximum = 0.0014\n",
    "dft.loc[:, \"latitude_change\"] = dft.loc[:,\"latitude\"] - dft.loc[:,\"latitude\"].shift(1)\n",
    "dft.loc[:, \"longitude_change\"] = dft.loc[:,\"longitude\"] - dft.loc[:,\"longitude\"].shift(1)\n",
    "\n",
    "def pythago(lat, long):\n",
    "    return sqrt(lat*lat + long*long)\n",
    "\n",
    "dft.loc[:,[\"change\"]] = dft.apply(lambda x: pythago(x.latitude_change, x.longitude_change), axis=1)\n",
    "\n",
    "maximum = dft.loc[:,\"change\"].mean()*10\n",
    "fig, ax = plt.subplots(figsize = (7,7))\n",
    "ax.scatter(dft.latitude, dft.longitude, zorder=1, alpha= 0.2, c='b', s=10)\n",
    "ax.scatter(dft[dft[\"change\"] > maximum].latitude, dft[dft[\"change\"] > maximum].longitude, zorder=1, alpha=1, c='r', s=10)"
   ]
  },
  {
   "cell_type": "code",
   "execution_count": 13,
   "id": "24ae70ea",
   "metadata": {},
   "outputs": [
    {
     "name": "stderr",
     "output_type": "stream",
     "text": [
      "C:\\ProgramData\\Anaconda3\\lib\\site-packages\\seaborn\\_decorators.py:36: FutureWarning: Pass the following variable as a keyword arg: x. From version 0.12, the only valid positional argument will be `data`, and passing other arguments without an explicit keyword will result in an error or misinterpretation.\n",
      "  warnings.warn(\n"
     ]
    },
    {
     "data": {
      "text/plain": [
       "<AxesSubplot:xlabel='change'>"
      ]
     },
     "execution_count": 13,
     "metadata": {},
     "output_type": "execute_result"
    },
    {
     "data": {
      "image/png": "[encoded data removed]",
      "text/plain": [
       "<Figure size 432x288 with 1 Axes>"
      ]
     },
     "metadata": {
      "needs_background": "light"
     },
     "output_type": "display_data"
    }
   ],
   "source": [
    "sns.boxplot(dft['change'])"
   ]
  },
  {
   "cell_type": "markdown",
   "id": "c178da58",
   "metadata": {},
   "source": [
    "### The actual graph"
   ]
  },
  {
   "cell_type": "code",
   "execution_count": 14,
   "id": "5a9b5835",
   "metadata": {},
   "outputs": [],
   "source": [
    "# Method 1: check if the angle between current and previous vertex is too different from first angle in sequence\n",
    "# Method 2: check if the angle between current and first vertex in the sequence is too different from first angle in sequence\n",
    "# Method 3: method 2, but the max angle is affected by the distance from the first vertex in the sequence\n",
    "\n",
    "def create_graph(df, max_angle_change = 45, method = 3, max_angle_change_min = 5, distance_multiplier = 10):\n",
    "    mean_distance = df[\"change\"].mean()\n",
    "    skip_next = False\n",
    "\n",
    "    graph = Graph()\n",
    "    \n",
    "    # The start of the sequence\n",
    "    start_latitude = df.iloc[0, 0]\n",
    "    start_longitude = df.iloc[0, 1]\n",
    "    altitude = df.iloc[0, 2]\n",
    "    \n",
    "    # The last point\n",
    "    start_vertex = Vertex(start_latitude, start_longitude, altitude, graph)\n",
    "    last_latitude = df.iloc[1, 0]\n",
    "    last_longitude = df.iloc[1, 1]\n",
    "    last_altitude = df.iloc[1, 2]\n",
    "    \n",
    "    # The last angle\n",
    "    compare_angle = start_vertex.angle_to_point(last_latitude, last_longitude)\n",
    "\n",
    "    for i in range(2,len(df)):\n",
    "        cur_latitude = df.iloc[i, 0]\n",
    "        cur_longitude = df.iloc[i, 1]   \n",
    "        cur_altitude = df.iloc[i, 2]\n",
    "        \n",
    "        last_distance = sqrt(pow(last_latitude-cur_latitude, 2) + pow(last_longitude-cur_longitude,2))\n",
    "        \n",
    "        # If the last iteration noticed a skip, create a new start\n",
    "        if skip_next == True:\n",
    "            new_vertex = Vertex(last_latitude, last_longitude, last_altitude, graph)\n",
    "            \n",
    "            compare_angle = calculate_angle(start_latitude, cur_latitude, start_longitude, cur_longitude)\n",
    "            start_vertex = new_vertex\n",
    "\n",
    "            start_altitude = last_altitude\n",
    "            start_longitude = last_longitude\n",
    "            \n",
    "            skip_next = False            \n",
    "        \n",
    "        # If the distance is to large do not connect\n",
    "        elif last_distance > mean_distance*distance_multiplier:\n",
    "            new_vertex = Vertex(last_latitude, last_longitude, last_altitude, graph)\n",
    "            Edge([start_vertex, new_vertex])\n",
    "\n",
    "            start_vertex = new_vertex\n",
    "\n",
    "            start_altitude = last_altitude\n",
    "            start_longitude = last_longitude\n",
    "            \n",
    "            skip_next = True\n",
    "        \n",
    "        # Normal case of connecting\n",
    "        else:\n",
    "            if method == 1:\n",
    "                last_angle = calculate_angle(last_latitude, cur_latitude, last_longitude, cur_longitude)\n",
    "                cur_angle = last_angle\n",
    "                max_angle = max_angle_change\n",
    "\n",
    "            elif method == 2:\n",
    "                start_angle = calculate_angle(start_latitude, cur_latitude, start_longitude, cur_longitude)\n",
    "                cur_angle = start_angle\n",
    "                max_angle = max_angle_change\n",
    "\n",
    "            elif method == 3:\n",
    "                start_angle = calculate_angle(start_latitude, cur_latitude, start_longitude, cur_longitude)\n",
    "                cur_angle = start_angle\n",
    "                \n",
    "                start_distance = sqrt(pow(start_latitude-cur_latitude, 2) + pow(start_longitude-cur_longitude,2))\n",
    "                max_angle = max(max_angle_change*mean_distance/start_distance, max_angle_change_min)\n",
    "            \n",
    "            # If the angle is too different\n",
    "            if ((abs(compare_angle-cur_angle) + 180) % 360 - 180) > max_angle:\n",
    "                new_vertex = Vertex(last_latitude, last_longitude, last_altitude, graph)\n",
    "                Edge([start_vertex, new_vertex])\n",
    "\n",
    "                compare_angle = cur_angle\n",
    "                start_vertex = new_vertex\n",
    "\n",
    "                start_altitude = last_altitude\n",
    "                start_longitude = last_longitude\n",
    "\n",
    "        last_latitude = cur_latitude\n",
    "        last_longitude = cur_longitude\n",
    "        last_altitude = cur_altitude\n",
    "\n",
    "    new_vertex = Vertex(last_latitude, last_longitude, last_altitude, graph)\n",
    "    Edge([start_vertex, new_vertex])\n",
    "    \n",
    "    return graph"
   ]
  },
  {
   "cell_type": "code",
   "execution_count": 37,
   "id": "25aa7b44",
   "metadata": {},
   "outputs": [
    {
     "name": "stdout",
     "output_type": "stream",
     "text": [
      "reduced from 907 to 547 points\n"
     ]
    },
    {
     "data": {
      "image/png": "[encoded data removed]",
      "text/plain": [
       "<Figure size 504x504 with 1 Axes>"
      ]
     },
     "metadata": {
      "needs_background": "light"
     },
     "output_type": "display_data"
    }
   ],
   "source": [
    "graph = create_graph(dft, method = 1, distance_multiplier = 5, max_angle_change = 4)\n",
    "\n",
    "fig, ax = plt.subplots(figsize = (7,7))\n",
    "ax.scatter(dft.latitude, dft.longitude, zorder=1, alpha= 0.2, c='b', s=10)\n",
    "\n",
    "for edge in graph.edges:\n",
    "    lat1 = min(edge.vertices).latitude\n",
    "    long1 = min(edge.vertices).longitude\n",
    "    \n",
    "    lat2 = max(edge.vertices).latitude\n",
    "    long2 = max(edge.vertices).longitude\n",
    "    \n",
    "    plt.plot([lat1, lat2], [long1, long2], marker = 'o')\n",
    "\n",
    "ax = plt.gca()\n",
    "\n",
    "ax.set_xlim([40.0035, 40.0115])\n",
    "ax.set_ylim([116.3175, 116.3245])\n",
    "print(f\"reduced from {len(dft)} to {len(graph.vertices)} points\")"
   ]
  },
  {
   "cell_type": "code",
   "execution_count": null,
   "id": "b2deaeb0",
   "metadata": {},
   "outputs": [],
   "source": [
    "for vertex in graph.vertices:\n",
    "    if len(vertex.edges) == 1:\n",
    "        cur_vertex = vertex\n",
    "        cur_edge = next(iter(vertex.edges))\n",
    "        break\n",
    "        \n",
    "cur_angle = cur_edge.angle\n",
    "cur_vertex = [vertex for vertex in cur_edge.vertices if vertex != cur_vertex][0]\n",
    "cur_edge = [edge for edge in cur_vertex.edges if edge != cur_edge][0]\n",
    "\n",
    "while len(cur_vertex.edges) != 1:\n",
    "    cur_angle = cur_edge.angle\n",
    "    cur_vertex = [vertex for vertex in cur_edge.vertices if vertex != cur_vertex][0]\n",
    "    cur_edge = [edge for edge in cur_vertex.edges if edge != cur_edge][0]"
   ]
  },
  {
   "cell_type": "code",
   "execution_count": null,
   "id": "a7eacdfe",
   "metadata": {},
   "outputs": [],
   "source": [
    "# change gaps into different trajectory\n",
    "# add distance to angle calculation"
   ]
  }
 ],
 "metadata": {
  "kernelspec": {
   "display_name": "Python 3",
   "language": "python",
   "name": "python3"
  },
  "language_info": {
   "codemirror_mode": {
    "name": "ipython",
    "version": 3
   },
   "file_extension": ".py",
   "mimetype": "text/x-python",
   "name": "python",
   "nbconvert_exporter": "python",
   "pygments_lexer": "ipython3",
   "version": "3.8.8"
  }
 },
 "nbformat": 4,
 "nbformat_minor": 5
}

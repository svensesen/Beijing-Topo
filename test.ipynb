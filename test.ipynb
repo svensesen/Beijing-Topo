{
 "cells": [
  {
   "cell_type": "code",
   "execution_count": 1,
   "id": "38b6c072",
   "metadata": {},
   "outputs": [],
   "source": [
    "import pprint\n",
    "pp = pprint.PrettyPrinter(indent=4)\n",
    "from Graph import *"
   ]
  },
  {
   "cell_type": "code",
   "execution_count": 2,
   "id": "40ab805c",
   "metadata": {},
   "outputs": [],
   "source": [
    "graph = Graph(warnings = True)\n",
    "\n",
    "last_vertex = Vertex(-1, -1, 0, warnings = True)\n",
    "graph.add_vertices(last_vertex)\n",
    "\n",
    "for i in range(0,10):\n",
    "    new_vertex = Vertex(i, i, 0, warnings = True)\n",
    "    edge = Edge(vertices = [last_vertex, new_vertex], warnings = True)\n",
    "    graph.add_vertices(new_vertex)\n",
    "    last_vertex = new_vertex"
   ]
  },
  {
   "cell_type": "code",
   "execution_count": 3,
   "id": "a10315d5",
   "metadata": {},
   "outputs": [
    {
     "name": "stdout",
     "output_type": "stream",
     "text": [
      "{   <Vertex: -1,-1,0>,\n",
      "    <Vertex: 0,0,0>,\n",
      "    <Vertex: 1,1,0>,\n",
      "    <Vertex: 2,2,0>,\n",
      "    <Vertex: 3,3,0>,\n",
      "    <Vertex: 4,4,0>,\n",
      "    <Vertex: 5,5,0>,\n",
      "    <Vertex: 6,6,0>,\n",
      "    <Vertex: 7,7,0>,\n",
      "    <Vertex: 8,8,0>,\n",
      "    <Vertex: 9,9,0>}\n",
      "{   <Edge: (<Vertex: 4,4,0>) -> (<Vertex: 5,5,0>)>,\n",
      "    <Edge: (<Vertex: 0,0,0>) -> (<Vertex: 1,1,0>)>,\n",
      "    <Edge: (<Vertex: -1,-1,0>) -> (<Vertex: 0,0,0>)>,\n",
      "    <Edge: (<Vertex: 1,1,0>) -> (<Vertex: 2,2,0>)>,\n",
      "    <Edge: (<Vertex: 2,2,0>) -> (<Vertex: 3,3,0>)>,\n",
      "    <Edge: (<Vertex: 3,3,0>) -> (<Vertex: 4,4,0>)>,\n",
      "    <Edge: (<Vertex: 5,5,0>) -> (<Vertex: 6,6,0>)>,\n",
      "    <Edge: (<Vertex: 6,6,0>) -> (<Vertex: 7,7,0>)>,\n",
      "    <Edge: (<Vertex: 7,7,0>) -> (<Vertex: 8,8,0>)>,\n",
      "    <Edge: (<Vertex: 8,8,0>) -> (<Vertex: 9,9,0>)>}\n",
      "'/n'\n",
      "{   <Vertex: 0,0,0>,\n",
      "    <Vertex: 1,1,0>,\n",
      "    <Vertex: 2,2,0>,\n",
      "    <Vertex: 3,3,0>,\n",
      "    <Vertex: 4,4,0>,\n",
      "    <Vertex: 5,5,0>,\n",
      "    <Vertex: 6,6,0>,\n",
      "    <Vertex: 7,7,0>,\n",
      "    <Vertex: 8,8,0>,\n",
      "    <Vertex: 9,9,0>}\n",
      "{   <Edge: (<Vertex: 4,4,0>) -> (<Vertex: 5,5,0>)>,\n",
      "    <Edge: (<Vertex: 0,0,0>) -> (<Vertex: 1,1,0>)>,\n",
      "    <Edge: (<Vertex: -1,-1,0>) -> (<Vertex: 0,0,0>)>,\n",
      "    <Edge: (<Vertex: 1,1,0>) -> (<Vertex: 2,2,0>)>,\n",
      "    <Edge: (<Vertex: 2,2,0>) -> (<Vertex: 3,3,0>)>,\n",
      "    <Edge: (<Vertex: 3,3,0>) -> (<Vertex: 4,4,0>)>,\n",
      "    <Edge: (<Vertex: 5,5,0>) -> (<Vertex: 6,6,0>)>,\n",
      "    <Edge: (<Vertex: 6,6,0>) -> (<Vertex: 7,7,0>)>,\n",
      "    <Edge: (<Vertex: 7,7,0>) -> (<Vertex: 8,8,0>)>,\n",
      "    <Edge: (<Vertex: 8,8,0>) -> (<Vertex: 9,9,0>)>}\n"
     ]
    }
   ],
   "source": [
    "pp.pprint(graph.vertices)\n",
    "pp.pprint(graph.edges)\n",
    "    \n",
    "for i in range(5):\n",
    "    cur_vertex = next(iter(graph.vertices))\n",
    "    cur_vertex.set_graph(None)\n",
    "\n",
    "    pp.pprint(graph.vertices)\n",
    "    pp.pprint(graph.edges)\n",
    "    pp.pri(\"/n\")"
   ]
  },
  {
   "cell_type": "code",
   "execution_count": 4,
   "id": "14899aac",
   "metadata": {},
   "outputs": [
    {
     "name": "stdout",
     "output_type": "stream",
     "text": [
      "<Vertex: -1,-1,0>\n",
      "None\n"
     ]
    }
   ],
   "source": [
    "print(cur_vertex)\n",
    "print(cur_vertex.graph)"
   ]
  }
 ],
 "metadata": {
  "kernelspec": {
   "display_name": "Python 3 (ipykernel)",
   "language": "python",
   "name": "python3"
  },
  "language_info": {
   "codemirror_mode": {
    "name": "ipython",
    "version": 3
   },
   "file_extension": ".py",
   "mimetype": "text/x-python",
   "name": "python",
   "nbconvert_exporter": "python",
   "pygments_lexer": "ipython3",
   "version": "3.11.3"
  }
 },
 "nbformat": 4,
 "nbformat_minor": 5
}

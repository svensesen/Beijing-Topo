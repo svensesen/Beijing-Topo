{
 "cells": [
  {
   "cell_type": "code",
   "execution_count": 1,
   "id": "69c69d26",
   "metadata": {},
   "outputs": [],
   "source": [
    "import pprint\n",
    "pp = pprint.PrettyPrinter(indent=4)\n",
    "\n",
    "import pandas as pd\n",
    "import matplotlib.pyplot as plt\n",
    "from matplotlib.widgets import Slider\n",
    "from Graph import *\n",
    "from math import sqrt\n",
    "\n",
    "import seaborn as sns\n",
    "import numpy as np\n",
    "\n"
   ]
  },
  {
   "cell_type": "markdown",
   "id": "59f2b591",
   "metadata": {},
   "source": [
    "## Test the Graph class"
   ]
  },
  {
   "cell_type": "code",
   "execution_count": null,
   "id": "f37766b7",
   "metadata": {},
   "outputs": [],
   "source": [
    "vertex1 = Vertex(60, 2, 0)\n",
    "vertex2 = Vertex(61, 3, 0)\n",
    "\n",
    "edge = Edge([vertex1, vertex2])\n",
    "\n",
    "print(edge.angle, edge.length, edge.intermediate_point())"
   ]
  },
  {
   "cell_type": "code",
   "execution_count": null,
   "id": "30553028",
   "metadata": {},
   "outputs": [],
   "source": [
    "graph = Graph(warnings = True)\n",
    "\n",
    "last_vertex = Vertex(-1, -1, 0, warnings = True)\n",
    "graph.add_vertices(last_vertex)\n",
    "\n",
    "for i in range(0,10):\n",
    "    new_vertex = Vertex(i, i, 0, warnings = True)\n",
    "    edge = Edge(vertices = [last_vertex, new_vertex], warnings = True)\n",
    "    graph.add_vertices(new_vertex)\n",
    "    last_vertex = new_vertex"
   ]
  },
  {
   "cell_type": "code",
   "execution_count": null,
   "id": "8128395c",
   "metadata": {},
   "outputs": [],
   "source": [
    "pp.pprint(graph.vertices)\n",
    "pp.pprint(graph.edges)\n",
    "    \n",
    "for i in range(5):\n",
    "    cur_vertex = next(iter(graph.vertices))\n",
    "    cur_vertex.set_graph(None)\n",
    "\n",
    "    pp.pprint(graph.vertices)\n",
    "    pp.pprint(graph.edges)\n",
    "    pp.pprint(\"\")"
   ]
  },
  {
   "cell_type": "code",
   "execution_count": null,
   "id": "1ce25432",
   "metadata": {},
   "outputs": [],
   "source": [
    "print(calculate_angle(60, 61, 2, 3))\n",
    "print(calculate_angle(60, 61, 3, 2))"
   ]
  },
  {
   "cell_type": "markdown",
   "id": "a44c4459",
   "metadata": {},
   "source": [
    "## Angle graphifying"
   ]
  },
  {
   "cell_type": "code",
   "execution_count": 2,
   "id": "6d610e66",
   "metadata": {},
   "outputs": [],
   "source": [
    "df = pd.read_csv(\"presets/0.csv\")"
   ]
  },
  {
   "cell_type": "code",
   "execution_count": 3,
   "id": "3614a566",
   "metadata": {},
   "outputs": [],
   "source": [
    "tra = df[\"trajectory\"].unique()[0]\n",
    "dft = df[df[\"trajectory\"] == tra]"
   ]
  },
  {
   "cell_type": "code",
   "execution_count": null,
   "id": "aa29bb72",
   "metadata": {},
   "outputs": [],
   "source": [
    "# Additional idea: combine edges with similar angles\n",
    "# For report we attempt to model the topology of a city (vertices, edges and planes) of a city from geographical data"
   ]
  },
  {
   "cell_type": "markdown",
   "id": "0a982545",
   "metadata": {},
   "source": [
    "### Testing division"
   ]
  },
  {
   "cell_type": "code",
   "execution_count": null,
   "id": "541dab28",
   "metadata": {},
   "outputs": [],
   "source": [
    "# divide latitude by 69 and longitude by 52"
   ]
  },
  {
   "cell_type": "code",
   "execution_count": 4,
   "id": "68a6ec4b",
   "metadata": {
    "scrolled": true
   },
   "outputs": [
    {
     "name": "stderr",
     "output_type": "stream",
     "text": [
      "C:\\ProgramData\\Anaconda3\\lib\\site-packages\\pandas\\core\\indexing.py:1597: SettingWithCopyWarning: \n",
      "A value is trying to be set on a copy of a slice from a DataFrame.\n",
      "Try using .loc[row_indexer,col_indexer] = value instead\n",
      "\n",
      "See the caveats in the documentation: https://pandas.pydata.org/pandas-docs/stable/user_guide/indexing.html#returning-a-view-versus-a-copy\n",
      "  self.obj[key] = value\n",
      "C:\\ProgramData\\Anaconda3\\lib\\site-packages\\pandas\\core\\indexing.py:1676: SettingWithCopyWarning: \n",
      "A value is trying to be set on a copy of a slice from a DataFrame.\n",
      "Try using .loc[row_indexer,col_indexer] = value instead\n",
      "\n",
      "See the caveats in the documentation: https://pandas.pydata.org/pandas-docs/stable/user_guide/indexing.html#returning-a-view-versus-a-copy\n",
      "  self._setitem_single_column(ilocs[0], value, pi)\n"
     ]
    },
    {
     "data": {
      "text/plain": [
       "<matplotlib.collections.PathCollection at 0x2daf6fb84f0>"
      ]
     },
     "execution_count": 4,
     "metadata": {},
     "output_type": "execute_result"
    },
    {
     "data": {
      "image/png": "[encoded data removed]",
      "text/plain": [
       "<Figure size 504x504 with 1 Axes>"
      ]
     },
     "metadata": {
      "needs_background": "light"
     },
     "output_type": "display_data"
    }
   ],
   "source": [
    "\n",
    "dft.loc[:, \"latitude_change\"] = dft.loc[:,\"latitude\"] - dft.loc[:,\"latitude\"].shift(1)\n",
    "dft.loc[:, \"longitude_change\"] = dft.loc[:,\"longitude\"] - dft.loc[:,\"longitude\"].shift(1)\n",
    "\n",
    "def pythago(lat, long):\n",
    "    return sqrt(lat*lat + long*long)\n",
    "\n",
    "dft.loc[:,[\"change\"]] = dft.apply(lambda x: pythago(x.latitude_change, x.longitude_change), axis=1)\n",
    "\n",
    "maximum = dft.loc[:,\"change\"].mean()*10\n",
    "fig, ax = plt.subplots(figsize = (7,7))\n",
    "ax.scatter(dft.latitude, dft.longitude, zorder=1, alpha= 0.2, c='b', s=10)\n",
    "\n",
    "df1 = dft[dft[\"change\"] > dft[\"change\"].mean()*10]\n",
    "ax.scatter(df1.latitude, df1.longitude, zorder=1, alpha=1, c='r', s=10)\n",
    "\n",
    "q25 = dft[\"change\"].quantile(0.25)\n",
    "q75 = dft[\"change\"].quantile(0.75)\n",
    "df2 = dft[dft[\"change\"] > (q75 + 1.5*(q75 + q25))]\n",
    "ax.scatter(df2.latitude, df2.longitude, zorder=1, alpha=1, c='g', s=10)"
   ]
  },
  {
   "cell_type": "markdown",
   "id": "c178da58",
   "metadata": {},
   "source": [
    "### The actual graph"
   ]
  },
  {
   "cell_type": "code",
   "execution_count": 13,
   "id": "5a9b5835",
   "metadata": {},
   "outputs": [],
   "source": [
    "# Method 1: check if the angle between current and previous vertex is too different from first angle in sequence\n",
    "# Method 2: check if the angle between current and first vertex in the sequence is too different from first angle in sequence\n",
    "# Method 3: method 2, but the max angle is affected by the distance from the first vertex in the sequence\n",
    "\n",
    "def create_graph(df, max_angle_change = 45, method = 3, \n",
    "                 max_angle_change_min = 5, distance_multiplier = None, splitting_method = 2):\n",
    "    \n",
    "    mean_distance = df[\"change\"].mean()\n",
    "    skip_next = False\n",
    "    \n",
    "    # Splitting distance is defined by a multiple of the mean\n",
    "    if splitting_method == 1:\n",
    "        if distance_multiplier == None: distance_multiplier = 5\n",
    "        max_distance = mean_distance*distance_multiplier\n",
    "    \n",
    "    # Splitting distance is difined by the quantiles\n",
    "    elif splitting_method == 2:\n",
    "        if distance_multiplier == None: distance_multiplier = 1.5\n",
    "        q25 = df[\"change\"].quantile(0.25)\n",
    "        q75 = df[\"change\"].quantile(0.75)\n",
    "        max_distance = (q75 + distance_multiplier*(q75 +-q25))\n",
    "        \n",
    "    graph = Graph()\n",
    "    \n",
    "    # The start of the current sequence\n",
    "    start_latitude = df.iloc[0, 0]\n",
    "    start_longitude = df.iloc[0, 1]\n",
    "    altitude = df.iloc[0, 2]\n",
    "    \n",
    "    # The last point\n",
    "    start_vertex = Vertex(start_latitude, start_longitude, altitude, graph)\n",
    "    last_latitude = df.iloc[1, 0]\n",
    "    last_longitude = df.iloc[1, 1]\n",
    "    last_altitude = df.iloc[1, 2]\n",
    "    \n",
    "    # The last angle to the vertex befor it\n",
    "    compare_last_angle = start_vertex.angle_to_point(last_latitude, last_longitude)\n",
    "    \n",
    "    # The last angle to the start vertex in the current_sequence\n",
    "    compare_start_angle = start_vertex.angle_to_point(last_latitude, last_longitude)\n",
    "    \n",
    "    # For every point in the dataframe (in order)\n",
    "    for i in range(2,len(df)):\n",
    "        cur_latitude = df.iloc[i, 0]\n",
    "        cur_longitude = df.iloc[i, 1]   \n",
    "        cur_altitude = df.iloc[i, 2]\n",
    "        \n",
    "        last_distance = sqrt(pow(last_latitude-cur_latitude, 2) + pow(last_longitude-cur_longitude,2))\n",
    "        \n",
    "        # If the last iteration noticed a skip, create a new start\n",
    "        if skip_next == True:\n",
    "            new_vertex = Vertex(last_latitude, last_longitude, last_altitude, graph)\n",
    "            \n",
    "            compare_angle = calculate_angle(last_latitude, cur_latitude, last_longitude, cur_longitude)\n",
    "            start_vertex = new_vertex\n",
    "\n",
    "            start_altitude = last_altitude\n",
    "            start_longitude = last_longitude\n",
    "            \n",
    "            skip_next = False            \n",
    "        \n",
    "        # If the distance is to large do not connect\n",
    "        elif last_distance > max_distance:\n",
    "            new_vertex = Vertex(last_latitude, last_longitude, last_altitude, graph)\n",
    "            Edge([start_vertex, new_vertex])\n",
    "            \n",
    "            skip_next = True\n",
    "        \n",
    "        # Normal case of connecting\n",
    "        else:\n",
    "            if method == 1:\n",
    "                last_angle = calculate_angle(last_latitude, cur_latitude, last_longitude, cur_longitude)\n",
    "\n",
    "                condition = ((abs(compare_last_angle-last_angle) + 180) % 360 - 180) > max_angle_change\n",
    "\n",
    "            elif method == 2:\n",
    "                start_angle = calculate_angle(start_latitude, cur_latitude, start_longitude, cur_longitude)\n",
    "                \n",
    "                condition = ((abs(compare_start_angle-start_angle) + 180) % 360 - 180) > max_angle_change\n",
    "\n",
    "            elif method == 3:\n",
    "                start_angle = calculate_angle(start_latitude, cur_latitude, start_longitude, cur_longitude)\n",
    "                \n",
    "                start_distance = sqrt(pow(start_latitude-cur_latitude, 2) + pow(start_longitude-cur_longitude,2))\n",
    "                max_angle = max(max_angle_change*mean_distance/start_distance, max_angle_change_min)\n",
    "                \n",
    "                condition = ((abs(compare_start_angle-start_angle) + 180) % 360 - 180) > max_angle\n",
    "            \n",
    "            elif method == 4:\n",
    "                last_angle = calculate_angle(last_latitude, cur_latitude, last_longitude, cur_longitude)\n",
    "                start_angle = calculate_angle(start_latitude, cur_latitude, start_longitude, cur_longitude)\n",
    "                \n",
    "                condition = (((abs(compare_last_angle-last_angle) + 180) % 360 - 180) > max_angle_change)\\\n",
    "                and (((abs(compare_start_angle-start_angle) + 180) % 360 - 180) > max_angle_change)\n",
    "            \n",
    "            # Create new vertex if the angle is too different\n",
    "            if condition:\n",
    "                new_vertex = Vertex(last_latitude, last_longitude, last_altitude, graph)\n",
    "                Edge([start_vertex, new_vertex])\n",
    "                \n",
    "                try: compare_last_angle = last_angle\n",
    "                except:continue\n",
    "                    \n",
    "                try:compare_start_angle = start_angle\n",
    "                except: continue\n",
    "\n",
    "                start_vertex = new_vertex\n",
    "\n",
    "                start_altitude = last_altitude\n",
    "                start_longitude = last_longitude\n",
    "\n",
    "        last_latitude = cur_latitude\n",
    "        last_longitude = cur_longitude\n",
    "        last_altitude = cur_altitude\n",
    "\n",
    "    new_vertex = Vertex(last_latitude, last_longitude, last_altitude, graph)\n",
    "    Edge([start_vertex, new_vertex])\n",
    "    \n",
    "    return graph"
   ]
  },
  {
   "cell_type": "code",
   "execution_count": 14,
   "id": "25aa7b44",
   "metadata": {},
   "outputs": [
    {
     "name": "stdout",
     "output_type": "stream",
     "text": [
      "reduced from 907 to 38 points\n"
     ]
    },
    {
     "data": {
      "image/png": "[encoded data removed]",
      "text/plain": [
       "<Figure size 504x504 with 1 Axes>"
      ]
     },
     "metadata": {
      "needs_background": "light"
     },
     "output_type": "display_data"
    }
   ],
   "source": [
    "graph = create_graph(dft, method = 4, splitting_method = 2, distance_multiplier = 5, max_angle_change = 15)\n",
    "\n",
    "fig, ax = plt.subplots(figsize = (7,7))\n",
    "ax.scatter(dft.latitude, dft.longitude, zorder=1, alpha= 0.2, c='b', s=10)\n",
    "\n",
    "for edge in graph.edges:\n",
    "    lat1 = min(edge.vertices).latitude\n",
    "    long1 = min(edge.vertices).longitude\n",
    "    \n",
    "    lat2 = max(edge.vertices).latitude\n",
    "    long2 = max(edge.vertices).longitude\n",
    "    \n",
    "    plt.plot([lat1, lat2], [long1, long2], marker = 'o')\n",
    "\n",
    "star_vertices = [vertex for vertex in graph.vertices if len(vertex.edges) == 1]\n",
    "for vertex in star_vertices:\n",
    "    ax.plot(vertex.latitude, vertex.longitude, markersize=50)\n",
    "    \n",
    "ax = plt.gca()\n",
    "#ax.set_xlim([40.0035, 40.0115])\n",
    "#ax.set_ylim([116.3175, 116.3245])\n",
    "print(f\"reduced from {len(dft)} to {len(graph.vertices)} points\")"
   ]
  },
  {
   "cell_type": "code",
   "execution_count": 16,
   "id": "35c2cc67",
   "metadata": {},
   "outputs": [
    {
     "data": {
      "image/png": "[encoded data removed]",
      "text/plain": [
       "<Figure size 432x288 with 1 Axes>"
      ]
     },
     "metadata": {
      "needs_background": "light"
     },
     "output_type": "display_data"
    }
   ],
   "source": [
    "plot_edges(graph.vertices)"
   ]
  },
  {
   "cell_type": "code",
   "execution_count": null,
   "id": "a7eacdfe",
   "metadata": {},
   "outputs": [],
   "source": [
    "# change gaps into different trajectory\n",
    "# add distance to angle calculation"
   ]
  }
 ],
 "metadata": {
  "kernelspec": {
   "display_name": "Python 3",
   "language": "python",
   "name": "python3"
  },
  "language_info": {
   "codemirror_mode": {
    "name": "ipython",
    "version": 3
   },
   "file_extension": ".py",
   "mimetype": "text/x-python",
   "name": "python",
   "nbconvert_exporter": "python",
   "pygments_lexer": "ipython3",
   "version": "3.8.8"
  }
 },
 "nbformat": 4,
 "nbformat_minor": 5
}

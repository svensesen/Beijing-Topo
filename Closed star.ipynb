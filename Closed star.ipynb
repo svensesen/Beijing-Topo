{
 "cells": [
  {
   "cell_type": "code",
   "execution_count": 15,
   "id": "3ca1ba8b",
   "metadata": {},
   "outputs": [
    {
     "name": "stdout",
     "output_type": "stream",
     "text": [
      "50\n",
      "84\n"
     ]
    }
   ],
   "source": [
    "from Graph import *\n",
    "from collections import Counter\n",
    "import pickle\n",
    "from simplification import *\n",
    "g = pickle.load(open(\"random_graph_3\", \"rb\"))\n",
    "print(len(g.vertices))\n",
    "print(len(g.edges))"
   ]
  },
  {
   "cell_type": "code",
   "execution_count": 14,
   "id": "d29e82b0",
   "metadata": {},
   "outputs": [
    {
     "name": "stdout",
     "output_type": "stream",
     "text": [
      "15\n",
      "[6, 15, 23, 24, 25, 32, 36, 44, 62, 65, 69, 70, 77, 81, 83]\n",
      "50 69\n",
      "47 66\n"
     ]
    }
   ],
   "source": [
    "# g = simplify_double_edges(g)\n",
    "# print(len(g.vertices), len(g.edges))\n",
    "# g = delete_chain_vertices(g)\n",
    "# print(len(g.vertices), len(g.edges))"
   ]
  },
  {
   "cell_type": "code",
   "execution_count": 6,
   "id": "03a0a776",
   "metadata": {},
   "outputs": [],
   "source": [
    "#g.save(\"random_graph_3_simplified\")"
   ]
  },
  {
   "cell_type": "markdown",
   "id": "e22de85f",
   "metadata": {},
   "source": [
    "Links drawing attempt:"
   ]
  },
  {
   "cell_type": "code",
   "execution_count": 16,
   "id": "32f9f11d",
   "metadata": {},
   "outputs": [],
   "source": [
    "v1, v2, v3 = list(g.vertices)[0], list(g.vertices)[1], list(g.vertices)[2]\n",
    "e1 = Edge(vertices={v1, v2})\n",
    "e2 = Edge(vertices={v2, v3})\n",
    "e3 = Edge(vertices={v1, v3})"
   ]
  },
  {
   "cell_type": "code",
   "execution_count": 21,
   "id": "1e2384ac",
   "metadata": {},
   "outputs": [],
   "source": [
    "def closed_star(g: Graph, e: Edge) -> list:\n",
    "    '''Provided an edge, finds the closed star of it in the graph\n",
    "    The found closed star can only be of a maximum of 2 vertices \"away\"'''\n",
    "    \n",
    "    return_set = []\n",
    "    \n",
    "    v1, v2 = list(e.vertices)[0], list(e.vertices)[1]\n",
    "    \n",
    "    print(isinstance(v1, Vertex), isinstance(v2, Vertex))\n",
    "    \n",
    "    # find all vertices v1 links to (besides v2) - can be sped up most likely\n",
    "    vertices_v1_links_to = []\n",
    "    for edge in v1.edges:\n",
    "        for vertex in edge.vertices:\n",
    "            if vertex not in [v1, v2]:\n",
    "                vertices_v1_links_to.append(vertex)\n",
    "                \n",
    "    print(\"v1 links to \", len(vertices_v1_links_to))\n",
    "    \n",
    "    # find all vertices v2 links to (besides v1) - can be sped up most likely\n",
    "    vertices_v2_links_to = []\n",
    "    for edge in v2.edges:\n",
    "        for vertex in edge.vertices:\n",
    "            if vertex not in [v1, v2]:\n",
    "                vertices_v2_links_to.append(vertex)\n",
    "                \n",
    "    print(\"v2 links to \", len(vertices_v2_links_to))\n",
    "    \n",
    "    # Get all the vertices that have edges between these two groups above:\n",
    "    vertices_connecting = [vertex for vertex in vertices_v1_links_to if any([g.are_connected(vertex, vertex2) for vertex2 in vertices_v2_links_to])]\n",
    "    print(\"vertices connecting \", len(vertices_connecting))\n",
    "    \n",
    "    # Also get all vertices connecting v1 and v2:\n",
    "    triangle_vertices = [vertex for vertex in vertices_v1_links_to if g.are_connected(vertex, v2)]\n",
    "    print(\"triangle vertices: \", len(triangle_vertices))\n",
    "    \n",
    "    #Final list of vertices. Any edge between any of these belongs to the closed star:\n",
    "    vertices_connecting += triangle_vertices + [v1, v2]\n",
    "    \n",
    "    #Return every edge between vertices belonging to this list\n",
    "    for edge in g.edges:\n",
    "        if list(edge.vertices)[0] in vertices_connecting and list(edge.vertices)[1] in vertices_connecting:\n",
    "            return_set.append(edge)\n",
    "    \n",
    "    # return both vertices and edges, for both belong to the closed star\n",
    "    return_set += vertices_connecting\n",
    "    return_set = set(return_set)\n",
    "    \n",
    "    return return_set"
   ]
  },
  {
   "cell_type": "code",
   "execution_count": 19,
   "id": "8828d9b8",
   "metadata": {},
   "outputs": [
    {
     "name": "stdout",
     "output_type": "stream",
     "text": [
      "True True\n",
      "v1 links to  2\n",
      "v2 links to  4\n",
      "vertices connecting  2\n",
      "1\n"
     ]
    }
   ],
   "source": [
    "#link_list = link(g, list(g.edges)[0])\n",
    "link_list = closed_star(g, e1)"
   ]
  },
  {
   "cell_type": "code",
   "execution_count": 20,
   "id": "56514518",
   "metadata": {},
   "outputs": [
    {
     "data": {
      "text/plain": [
       "{<Edge: (<Vertex: 39.946999999999996,116.322,100>) -> (<Vertex: 39.9875,116.436,100>)>,\n",
       " <Edge: (<Vertex: 39.946999999999996,116.322,100>) -> (<Vertex: 39.9875,116.455,100>)>,\n",
       " <Edge: (<Vertex: 39.9875,116.436,100>) -> (<Vertex: 39.9875,116.455,100>)>,\n",
       " <Edge: (<Vertex: 39.9875,116.436,100>) -> (<Vertex: 39.9875,116.455,100>)>,\n",
       " <Edge: (<Vertex: 39.9875,116.436,100>) -> (<Vertex: 40.001,116.436,100>)>,\n",
       " <Edge: (<Vertex: 40.001,116.436,100>) -> (<Vertex: 39.9875,116.455,100>)>,\n",
       " <Edge: (<Vertex: 40.001,116.436,100>) -> (<Vertex: 39.9875,116.455,100>)>,\n",
       " <Vertex: 39.946999999999996,116.322,100>,\n",
       " <Vertex: 39.9875,116.436,100>,\n",
       " <Vertex: 39.9875,116.455,100>,\n",
       " <Vertex: 40.001,116.436,100>}"
      ]
     },
     "execution_count": 20,
     "metadata": {},
     "output_type": "execute_result"
    }
   ],
   "source": [
    "link_list"
   ]
  },
  {
   "cell_type": "markdown",
   "id": "262d56d2",
   "metadata": {},
   "source": [
    "Old approach:"
   ]
  },
  {
   "cell_type": "code",
   "execution_count": null,
   "id": "859d6856",
   "metadata": {},
   "outputs": [],
   "source": [
    "# def simplify_double_edges(g: Graph):\n",
    "#     '''if there are 2 edges within a pair of vertices, leave only 1\n",
    "#     This is possible due to perhaps multiple edge objects (of different IDs) connecting the same Vertices\n",
    "    \n",
    "#     Also fixes broken edges'''\n",
    "    \n",
    "#     unique_vertex_connections = []\n",
    "#     edges_copy = g.edges.copy()\n",
    "\n",
    "#     for edge in edges_copy:\n",
    "        \n",
    "#         #Not broken edge (2 endpoints)\n",
    "#         try:\n",
    "#             pair = (list(edge.vertices)[0].id, list(edge.vertices)[1].id)\n",
    "            \n",
    "#             if pair not in unique_vertex_connections:\n",
    "#                 unique_vertex_connections.append(pair)\n",
    "#             else:\n",
    "#                 print(\"removed edge via try\")\n",
    "# #                 list(edge.vertices)[0].remove_edges(edge) #vertex.remove_edges(edge)\n",
    "# #                 list(edge.vertices)[1].remove_edges(edge)\n",
    "#                 g.edges.remove(edge) #remember to update properly\n",
    "        \n",
    "#         #Broken edge (1 endpoint)\n",
    "#         except IndexError:\n",
    "#             print('removed an edge via except')\n",
    "#             #list(edge.vertices)[0].remove_edges(edge)\n",
    "#             g.edges.remove(edge)\n",
    "            \n",
    "#     g.edges = edges_copy #?\n",
    "    \n",
    "#     return g"
   ]
  }
 ],
 "metadata": {
  "kernelspec": {
   "display_name": "Python 3 (ipykernel)",
   "language": "python",
   "name": "python3"
  },
  "language_info": {
   "codemirror_mode": {
    "name": "ipython",
    "version": 3
   },
   "file_extension": ".py",
   "mimetype": "text/x-python",
   "name": "python",
   "nbconvert_exporter": "python",
   "pygments_lexer": "ipython3",
   "version": "3.11.3"
  }
 },
 "nbformat": 4,
 "nbformat_minor": 5
}

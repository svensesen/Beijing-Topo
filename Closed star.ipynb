{
 "cells": [
  {
   "cell_type": "code",
   "execution_count": 81,
   "id": "3ca1ba8b",
   "metadata": {},
   "outputs": [
    {
     "name": "stdout",
     "output_type": "stream",
     "text": [
      "50\n",
      "84\n"
     ]
    }
   ],
   "source": [
    "from Graph import *\n",
    "from collections import Counter\n",
    "import pickle\n",
    "from simplification import *\n",
    "g = pickle.load(open(\"graph_files//random_graph_3\", \"rb\"))\n",
    "print(len(g.vertices))\n",
    "print(len(g.edges))"
   ]
  },
  {
   "cell_type": "code",
   "execution_count": 14,
   "id": "d29e82b0",
   "metadata": {},
   "outputs": [
    {
     "name": "stdout",
     "output_type": "stream",
     "text": [
      "15\n",
      "[6, 15, 23, 24, 25, 32, 36, 44, 62, 65, 69, 70, 77, 81, 83]\n",
      "50 69\n",
      "47 66\n"
     ]
    }
   ],
   "source": [
    "# g = simplify_double_edges(g)\n",
    "# print(len(g.vertices), len(g.edges))\n",
    "# g = delete_chain_vertices(g)\n",
    "# print(len(g.vertices), len(g.edges))"
   ]
  },
  {
   "cell_type": "code",
   "execution_count": 6,
   "id": "03a0a776",
   "metadata": {},
   "outputs": [],
   "source": [
    "#g.save(\"graph_files//random_graph_3_simplified\")"
   ]
  },
  {
   "cell_type": "markdown",
   "id": "e22de85f",
   "metadata": {},
   "source": [
    "Closed stars drawing attempt:"
   ]
  },
  {
   "cell_type": "code",
   "execution_count": 82,
   "id": "32f9f11d",
   "metadata": {},
   "outputs": [
    {
     "name": "stdout",
     "output_type": "stream",
     "text": [
      "50\n",
      "87\n"
     ]
    }
   ],
   "source": [
    "v1, v2, v3 = list(g.vertices)[0], list(g.vertices)[1], list(g.vertices)[2]\n",
    "e1 = Edge(vertices={v1, v2})\n",
    "e2 = Edge(vertices={v2, v3})\n",
    "e3 = Edge(vertices={v1, v3})\n",
    "g.add_vertices(set((v1, v2, v3)))\n",
    "print(len(g.vertices))\n",
    "print(len(g.edges))"
   ]
  },
  {
   "cell_type": "code",
   "execution_count": 83,
   "id": "1e2384ac",
   "metadata": {},
   "outputs": [],
   "source": [
    "def closed_star(g: Graph, e: Edge) -> list:\n",
    "    '''Provided an edge, finds the closed star of it in the graph\n",
    "    The found closed star can only be of a maximum of 2 vertices \"away\"'''\n",
    "    \n",
    "    return_set = []\n",
    "    \n",
    "    v1, v2 = list(e.vertices)[0], list(e.vertices)[1]\n",
    "    \n",
    "    print(isinstance(v1, Vertex), isinstance(v2, Vertex))\n",
    "    \n",
    "    # find all vertices v1 links to (besides v2) - can be sped up most likely\n",
    "    vertices_v1_links_to = []\n",
    "    for edge in v1.edges:\n",
    "        for vertex in edge.vertices:\n",
    "            if vertex not in [v1, v2]:\n",
    "                vertices_v1_links_to.append(vertex)\n",
    "                \n",
    "    print(\"v1 links to \", len(vertices_v1_links_to))\n",
    "    \n",
    "    # find all vertices v2 links to (besides v1) - can be sped up most likely\n",
    "    vertices_v2_links_to = []\n",
    "    for edge in v2.edges:\n",
    "        for vertex in edge.vertices:\n",
    "            if vertex not in [v1, v2]:\n",
    "                vertices_v2_links_to.append(vertex)\n",
    "                \n",
    "    print(\"v2 links to \", len(vertices_v2_links_to))\n",
    "    \n",
    "    # Get all the vertices that have edges between these two groups above:\n",
    "    vertices_connecting = [vertex for vertex in vertices_v1_links_to if any([g.are_connected(vertex, vertex2) for vertex2 in vertices_v2_links_to])]\n",
    "    print(\"vertices connecting \", len(vertices_connecting))\n",
    "    \n",
    "    # Also get all vertices connecting v1 and v2:\n",
    "    triangle_vertices = [vertex for vertex in vertices_v1_links_to if g.are_connected(vertex, v2)]\n",
    "    print(\"triangle vertices: \", len(triangle_vertices))\n",
    "    \n",
    "    #Final list of vertices. Any edge between any of these belongs to the closed star:\n",
    "    vertices_connecting += triangle_vertices + [v1, v2]\n",
    "    \n",
    "    #Return every edge between vertices belonging to this list\n",
    "    for edge in g.edges:\n",
    "        if list(edge.vertices)[0] in vertices_connecting and list(edge.vertices)[1] in vertices_connecting:\n",
    "            return_set.append(edge)\n",
    "    \n",
    "    # return both vertices and edges, for both belong to the closed star\n",
    "    return_set += vertices_connecting\n",
    "    return_set = set(return_set)\n",
    "    \n",
    "    return return_set"
   ]
  },
  {
   "cell_type": "code",
   "execution_count": 84,
   "id": "8828d9b8",
   "metadata": {},
   "outputs": [
    {
     "name": "stdout",
     "output_type": "stream",
     "text": [
      "True True\n",
      "v1 links to  2\n",
      "v2 links to  4\n",
      "vertices connecting  2\n",
      "triangle vertices:  1\n"
     ]
    }
   ],
   "source": [
    "#link_list = link(g, list(g.edges)[0])\n",
    "link_list = closed_star(g, e1)"
   ]
  },
  {
   "cell_type": "code",
   "execution_count": 85,
   "id": "56514518",
   "metadata": {},
   "outputs": [
    {
     "data": {
      "text/plain": [
       "{<Edge: (<Vertex: 39.946999999999996,116.322,100>) -> (<Vertex: 39.9875,116.436,100>)>,\n",
       " <Edge: (<Vertex: 39.946999999999996,116.322,100>) -> (<Vertex: 39.9875,116.455,100>)>,\n",
       " <Edge: (<Vertex: 39.9875,116.436,100>) -> (<Vertex: 39.9875,116.455,100>)>,\n",
       " <Edge: (<Vertex: 39.9875,116.436,100>) -> (<Vertex: 39.9875,116.455,100>)>,\n",
       " <Edge: (<Vertex: 39.9875,116.436,100>) -> (<Vertex: 40.001,116.436,100>)>,\n",
       " <Edge: (<Vertex: 40.001,116.436,100>) -> (<Vertex: 39.9875,116.455,100>)>,\n",
       " <Edge: (<Vertex: 40.001,116.436,100>) -> (<Vertex: 39.9875,116.455,100>)>,\n",
       " <Vertex: 39.946999999999996,116.322,100>,\n",
       " <Vertex: 39.9875,116.436,100>,\n",
       " <Vertex: 39.9875,116.455,100>,\n",
       " <Vertex: 40.001,116.436,100>}"
      ]
     },
     "execution_count": 85,
     "metadata": {},
     "output_type": "execute_result"
    }
   ],
   "source": [
    "link_list"
   ]
  },
  {
   "cell_type": "code",
   "execution_count": 86,
   "id": "00c56c1d",
   "metadata": {},
   "outputs": [],
   "source": [
    "link_list_copy = link_list.copy()"
   ]
  },
  {
   "cell_type": "code",
   "execution_count": 105,
   "id": "69f48ae3",
   "metadata": {},
   "outputs": [],
   "source": [
    "g1 = Graph()\n",
    "vertices = set([item for item in link_list_copy if isinstance(item, Vertex)])\n",
    "g1.add_vertices(vertices)\n",
    "\n",
    "g1.edges = set([edge for edge in g1.edges if all([vertex in g1.vertices for vertex in edge.vertices])])\n",
    "\n",
    "# for edge in g1.edges.copy():\n",
    "#     all_vertices_in = all([vertex in edge.vertices for vertex in edge.vertices])\n",
    "#     any_vertices_in = any([vertex in edge.vertices for vertex in edge.vertices])\n",
    "#     print(all_vertices_in)\n",
    "#     print(any_vertices_in)\n",
    "#     if not any_vertices_in:\n",
    "#         g1.edges.remove(edge) #beware, not native to the Graph library!"
   ]
  },
  {
   "cell_type": "code",
   "execution_count": 106,
   "id": "79749108",
   "metadata": {},
   "outputs": [
    {
     "data": {
      "text/plain": [
       "{<Vertex: 39.946999999999996,116.322,100>,\n",
       " <Vertex: 39.9875,116.436,100>,\n",
       " <Vertex: 40.001,116.436,100>,\n",
       " <Vertex: 39.9875,116.455,100>}"
      ]
     },
     "execution_count": 106,
     "metadata": {},
     "output_type": "execute_result"
    }
   ],
   "source": [
    "g1.vertices"
   ]
  },
  {
   "cell_type": "code",
   "execution_count": 107,
   "id": "09c0eada",
   "metadata": {},
   "outputs": [
    {
     "data": {
      "text/plain": [
       "{<Edge: (<Vertex: 39.946999999999996,116.322,100>) -> (<Vertex: 39.9875,116.436,100>)>,\n",
       " <Edge: (<Vertex: 39.946999999999996,116.322,100>) -> (<Vertex: 39.9875,116.455,100>)>,\n",
       " <Edge: (<Vertex: 39.9875,116.436,100>) -> (<Vertex: 39.9875,116.455,100>)>,\n",
       " <Edge: (<Vertex: 39.9875,116.436,100>) -> (<Vertex: 39.9875,116.455,100>)>,\n",
       " <Edge: (<Vertex: 39.9875,116.436,100>) -> (<Vertex: 40.001,116.436,100>)>,\n",
       " <Edge: (<Vertex: 40.001,116.436,100>) -> (<Vertex: 39.9875,116.455,100>)>,\n",
       " <Edge: (<Vertex: 40.001,116.436,100>) -> (<Vertex: 39.9875,116.455,100>)>}"
      ]
     },
     "execution_count": 107,
     "metadata": {},
     "output_type": "execute_result"
    }
   ],
   "source": [
    "g1.edges"
   ]
  },
  {
   "cell_type": "code",
   "execution_count": 109,
   "id": "c732df1b",
   "metadata": {},
   "outputs": [],
   "source": [
    "g1.save(\"graph_files//closed_star_random_graph_3_extended\")"
   ]
  },
  {
   "cell_type": "code",
   "execution_count": 35,
   "id": "20ff8718",
   "metadata": {},
   "outputs": [
    {
     "name": "stdout",
     "output_type": "stream",
     "text": [
      "2 1\n"
     ]
    }
   ],
   "source": [
    "edge_graph = Graph()\n",
    "edge_graph.add_vertices(e1.vertices)\n",
    "edge_graph.edges = {e1}\n",
    "print(len(edge_graph.vertices), len(edge_graph.edges))\n",
    "edge_graph.save(\"graph_files//chosen_edge_random_graph_3_extended\")"
   ]
  }
 ],
 "metadata": {
  "kernelspec": {
   "display_name": "Python 3 (ipykernel)",
   "language": "python",
   "name": "python3"
  },
  "language_info": {
   "codemirror_mode": {
    "name": "ipython",
    "version": 3
   },
   "file_extension": ".py",
   "mimetype": "text/x-python",
   "name": "python",
   "nbconvert_exporter": "python",
   "pygments_lexer": "ipython3",
   "version": "3.11.3"
  }
 },
 "nbformat": 4,
 "nbformat_minor": 5
}

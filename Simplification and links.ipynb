{
 "cells": [
  {
   "cell_type": "code",
   "execution_count": 65,
   "id": "3ca1ba8b",
   "metadata": {},
   "outputs": [
    {
     "name": "stdout",
     "output_type": "stream",
     "text": [
      "50\n",
      "84\n"
     ]
    }
   ],
   "source": [
    "from Graph import *\n",
    "from collections import Counter\n",
    "# g = Graph()\n",
    "# g.save(\"random_graph\")\n",
    "# #Added saving functionality to Graph, will test it soon\n",
    "# #vertex_counter = 0\n",
    "import pickle\n",
    "g = pickle.load(open(\"random_graph_2\", \"rb\"))\n",
    "print(len(g.vertices))\n",
    "print(len(g.edges))"
   ]
  },
  {
   "cell_type": "code",
   "execution_count": 67,
   "id": "859d6856",
   "metadata": {},
   "outputs": [],
   "source": [
    "def simplify_double_edges(g: Graph):\n",
    "    '''if there are 2 edges within a pair of vertices, leave only 1'''\n",
    "    \n",
    "    unique_vertex_connections = []\n",
    "    edges_copy = g.edges.copy()\n",
    "\n",
    "    for edge in edges_copy:\n",
    "        pair = (list(edge.vertices)[0].id, list(edge.vertices)[1].id)\n",
    "        if pair not in unique_vertex_connections:\n",
    "            unique_vertex_connections.append(pair)\n",
    "        else:\n",
    "            #list(edge.vertices)[0].remove_edges(edge)\n",
    "            g.edges.remove(edge)\n",
    "            \n",
    "    return g"
   ]
  },
  {
   "cell_type": "code",
   "execution_count": 112,
   "id": "d29e82b0",
   "metadata": {},
   "outputs": [
    {
     "name": "stdout",
     "output_type": "stream",
     "text": [
      "50 84\n",
      "50 67\n"
     ]
    }
   ],
   "source": [
    "g = pickle.load(open(\"random_graph_2\", \"rb\"))\n",
    "print(len(g.vertices), len(g.edges))\n",
    "g = simplify_double_edges(g)\n",
    "print(len(g.vertices), len(g.edges))"
   ]
  },
  {
   "cell_type": "code",
   "execution_count": 111,
   "id": "bf624cc9",
   "metadata": {},
   "outputs": [],
   "source": [
    "def delete_chain_vertices(g: Graph, threshold = 0.001):\n",
    "    ''''''\n",
    "    \n",
    "    # 1) for every vertex:\n",
    "    for vertex in g.vertices:\n",
    "    \n",
    "    # 2) if vertex has precisely 2 edges:\n",
    "        if len(vertex.edges) == 2:\n",
    "            edges = list(vertex.edges)\n",
    "            \n",
    "            # 3) if their angles are matching (below some threshold):\n",
    "            if abs(list(vertex.edges)[0].angle % 180 - list(vertex.edges)[1].angle % 180) < threshold:\n",
    "                \n",
    "                # 4) Find all vertices this chain connects\n",
    "                #That means, we'll get the outer vertices twice and the middle vertex once\n",
    "                all_vertices = list(edges[0].vertices) + list(edges[1].vertices)\n",
    "                \n",
    "                # 5) Sometime, due to completely fucked up errors, we will still encounter double edges instead of chains\n",
    "                # This is why we use the Counter (histogram) to check for that cases\n",
    "                counter = Counter(all_vertices)\n",
    "                #print(counter)\n",
    "                \n",
    "                # 6) To refer to the outer vertices, check which appear in the Counter once (middle will be twice)\n",
    "                outer_vertices = [out for out in counter if counter[out] == 1]\n",
    "                \n",
    "                # 7) If there are no outer vertices, we have found a redundant edge. Hence, remove any edge of the two:\n",
    "                if len(outer_vertices) == 0:\n",
    "                    g.edges.remove(edges[0])\n",
    "                \n",
    "                # 8) In case this is indeed a chain:\n",
    "                else:\n",
    "                    \n",
    "                    # 9) join the other 2 vertices using an edge\n",
    "                    new_edge = {Edge(vertices=set(outer_vertices))}\n",
    "\n",
    "                    # 10) remove the middle vertex\n",
    "                    g.remove_vertices(vertex)\n",
    "\n",
    "    return g"
   ]
  },
  {
   "cell_type": "code",
   "execution_count": 113,
   "id": "e06b5cfc",
   "metadata": {},
   "outputs": [
    {
     "ename": "KeyError",
     "evalue": "<Edge: (<Vertex: 40.0955,116.322,100>) -> (<Vertex: 40.0955,116.34100000000001,100>)>",
     "output_type": "error",
     "traceback": [
      "\u001b[1;31m---------------------------------------------------------------------------\u001b[0m",
      "\u001b[1;31mKeyError\u001b[0m                                  Traceback (most recent call last)",
      "Cell \u001b[1;32mIn[113], line 2\u001b[0m\n\u001b[0;32m      1\u001b[0m \u001b[38;5;66;03m#g = pickle.load(open(\"random_graph_2\", \"rb\"))\u001b[39;00m\n\u001b[1;32m----> 2\u001b[0m g \u001b[38;5;241m=\u001b[39m delete_chain_vertices(g)\n",
      "Cell \u001b[1;32mIn[111], line 28\u001b[0m, in \u001b[0;36mdelete_chain_vertices\u001b[1;34m(g, threshold)\u001b[0m\n\u001b[0;32m     26\u001b[0m \u001b[38;5;66;03m# 7) If there are no outer vertices, we have found a redundant edge. Hence, remove any edge of the two:\u001b[39;00m\n\u001b[0;32m     27\u001b[0m \u001b[38;5;28;01mif\u001b[39;00m \u001b[38;5;28mlen\u001b[39m(outer_vertices) \u001b[38;5;241m==\u001b[39m \u001b[38;5;241m0\u001b[39m:\n\u001b[1;32m---> 28\u001b[0m     g\u001b[38;5;241m.\u001b[39medges\u001b[38;5;241m.\u001b[39mremove(edges[\u001b[38;5;241m0\u001b[39m])\n\u001b[0;32m     30\u001b[0m \u001b[38;5;66;03m# 8) In case this is indeed a chain:\u001b[39;00m\n\u001b[0;32m     31\u001b[0m \u001b[38;5;28;01melse\u001b[39;00m:\n\u001b[0;32m     32\u001b[0m     \n\u001b[0;32m     33\u001b[0m     \u001b[38;5;66;03m# 9) join the other 2 vertices using an edge\u001b[39;00m\n\u001b[0;32m     34\u001b[0m     new_edge \u001b[38;5;241m=\u001b[39m {Edge(vertices\u001b[38;5;241m=\u001b[39m\u001b[38;5;28mset\u001b[39m(outer_vertices))}\n",
      "\u001b[1;31mKeyError\u001b[0m: <Edge: (<Vertex: 40.0955,116.322,100>) -> (<Vertex: 40.0955,116.34100000000001,100>)>"
     ]
    }
   ],
   "source": [
    "#g = pickle.load(open(\"random_graph_2\", \"rb\"))\n",
    "g = delete_chain_vertices(g)"
   ]
  },
  {
   "cell_type": "code",
   "execution_count": 114,
   "id": "1dee3844",
   "metadata": {},
   "outputs": [
    {
     "ename": "KeyError",
     "evalue": "5",
     "output_type": "error",
     "traceback": [
      "\u001b[1;31m---------------------------------------------------------------------------\u001b[0m",
      "\u001b[1;31mKeyError\u001b[0m                                  Traceback (most recent call last)",
      "Cell \u001b[1;32mIn[114], line 2\u001b[0m\n\u001b[0;32m      1\u001b[0m wow \u001b[38;5;241m=\u001b[39m {\u001b[38;5;241m2\u001b[39m,\u001b[38;5;241m1\u001b[39m,\u001b[38;5;241m3\u001b[39m,\u001b[38;5;241m7\u001b[39m}\n\u001b[1;32m----> 2\u001b[0m wow\u001b[38;5;241m.\u001b[39mremove(\u001b[38;5;241m5\u001b[39m)\n",
      "\u001b[1;31mKeyError\u001b[0m: 5"
     ]
    }
   ],
   "source": [
    "wow = {2,1,3,7}\n",
    "wow.remove(5)"
   ]
  }
 ],
 "metadata": {
  "kernelspec": {
   "display_name": "Python 3 (ipykernel)",
   "language": "python",
   "name": "python3"
  },
  "language_info": {
   "codemirror_mode": {
    "name": "ipython",
    "version": 3
   },
   "file_extension": ".py",
   "mimetype": "text/x-python",
   "name": "python",
   "nbconvert_exporter": "python",
   "pygments_lexer": "ipython3",
   "version": "3.11.3"
  }
 },
 "nbformat": 4,
 "nbformat_minor": 5
}

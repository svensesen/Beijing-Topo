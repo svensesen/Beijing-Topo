{
 "cells": [
  {
   "cell_type": "code",
   "execution_count": 1,
   "id": "3ca1ba8b",
   "metadata": {},
   "outputs": [
    {
     "name": "stdout",
     "output_type": "stream",
     "text": [
      "50\n",
      "84\n"
     ]
    }
   ],
   "source": [
    "from Graph import *\n",
    "from collections import Counter\n",
    "import pickle\n",
    "g = pickle.load(open(\"random_graph_3\", \"rb\"))\n",
    "print(len(g.vertices))\n",
    "print(len(g.edges))"
   ]
  },
  {
   "cell_type": "code",
   "execution_count": null,
   "id": "67a53848",
   "metadata": {},
   "outputs": [],
   "source": [
    "def simplify_double_edges(g: Graph):\n",
    "    '''if there are 2 edges within a pair of vertices, leave only 1\n",
    "    This is possible due to perhaps multiple edge objects (of different IDs) connecting the same Vertices\n",
    "    \n",
    "    Also fixes broken edges'''\n",
    "    \n",
    "    unique_vertex_connections = []\n",
    "    edges_ids_to_be_deleted = []\n",
    "\n",
    "    for edge in g.edges:\n",
    "        \n",
    "        #Not broken edge (2 endpoints)\n",
    "        pair = (list(edge.vertices)[0].id, list(edge.vertices)[1].id)\n",
    "\n",
    "        if pair not in unique_vertex_connections:\n",
    "            unique_vertex_connections.append(pair)\n",
    "        else:\n",
    "            edges_ids_to_be_deleted.append(edge.id)\n",
    "    \n",
    "    print(len(edges_ids_to_be_deleted))\n",
    "    print(edges_ids_to_be_deleted)\n",
    "    g.edges = set([edge for edge in g.edges if edge.id not in edges_ids_to_be_deleted])\n",
    "    \n",
    "    for vertex in g.vertices:\n",
    "        vertex.edges = set([edge for edge in vertex.edges if edge.id not in edges_ids_to_be_deleted])\n",
    "    \n",
    "    return g"
   ]
  },
  {
   "cell_type": "code",
   "execution_count": null,
   "id": "d29e82b0",
   "metadata": {},
   "outputs": [],
   "source": [
    "g = pickle.load(open(\"random_graph_3\", \"rb\"))\n",
    "print(len(g.vertices), len(g.edges))\n",
    "g = simplify_double_edges(g)\n",
    "print(len(g.vertices), len(g.edges))"
   ]
  },
  {
   "cell_type": "code",
   "execution_count": null,
   "id": "bf624cc9",
   "metadata": {},
   "outputs": [],
   "source": [
    "def delete_chain_vertices(g: Graph, threshold = 0.001):\n",
    "    ''''''\n",
    "    \n",
    "    # 1) for every vertex:\n",
    "    for vertex in g.vertices:\n",
    "    \n",
    "    # 2) if vertex has precisely 2 edges:\n",
    "        if len(vertex.edges) == 2:\n",
    "            edges = list(vertex.edges)\n",
    "            \n",
    "            # 3) if their angles are matching (below some threshold):\n",
    "            if abs(list(vertex.edges)[0].angle % 180 - list(vertex.edges)[1].angle % 180) < threshold:\n",
    "                \n",
    "                # 4) Find all vertices this chain connects\n",
    "                #That means, we'll get the outer vertices twice and the middle vertex once\n",
    "                all_vertices = list(edges[0].vertices) + list(edges[1].vertices)\n",
    "                \n",
    "                # 5) Sometime, due to completely fucked up errors, we will still encounter double edges instead of chains\n",
    "                # This is why we use the Counter (histogram) to check for that cases\n",
    "                counter = Counter(all_vertices)\n",
    "                #print(counter)\n",
    "                \n",
    "                # 6) To refer to the outer vertices, check which appear in the Counter once (middle will be twice)\n",
    "                outer_vertices = [out for out in counter if counter[out] == 1]\n",
    "                \n",
    "                # 7) If there are no outer vertices, we have found a redundant edge. Hence, remove any edge of the two:\n",
    "                if len(outer_vertices) == 0:\n",
    "                    g.edges.remove(edges[0])\n",
    "                \n",
    "                # 8) In case this is indeed a chain:\n",
    "                else:\n",
    "                    \n",
    "                    # 9) join the other 2 vertices using an edge\n",
    "                    new_edge = {Edge(vertices=set(outer_vertices))}\n",
    "\n",
    "                    # 10) remove the middle vertex\n",
    "                    g.remove_vertices(vertex)\n",
    "\n",
    "    return g"
   ]
  },
  {
   "cell_type": "code",
   "execution_count": null,
   "id": "e06b5cfc",
   "metadata": {},
   "outputs": [],
   "source": [
    "#g = pickle.load(open(\"random_graph_2\", \"rb\"))\n",
    "print(len(g.vertices), len(g.edges))\n",
    "g = delete_chain_vertices(g)\n",
    "print(len(g.vertices), len(g.edges))"
   ]
  },
  {
   "cell_type": "markdown",
   "id": "e22de85f",
   "metadata": {},
   "source": [
    "Links drawing attempt:"
   ]
  },
  {
   "cell_type": "code",
   "execution_count": 3,
   "id": "32f9f11d",
   "metadata": {},
   "outputs": [
    {
     "data": {
      "text/plain": [
       "False"
      ]
     },
     "execution_count": 3,
     "metadata": {},
     "output_type": "execute_result"
    }
   ],
   "source": [
    "g.are_connected(list(g.vertices)[0], list(g.vertices)[5])"
   ]
  },
  {
   "cell_type": "code",
   "execution_count": null,
   "id": "1e2384ac",
   "metadata": {},
   "outputs": [],
   "source": [
    "def link(g: Graph v1: Vertex, v2: Vertex) -> list:\n",
    "    '''not tested yet'''\n",
    "    \n",
    "    return_list = []\n",
    "    \n",
    "    # if v1 not linked to v2 - return some shit\n",
    "    if not g.are_connected(v1, v2):\n",
    "        return \"impossible to draw a link between unconnected vertices!\"\n",
    "    \n",
    "    # find all vertices v1 links to (besides v2) - can be sped up most likely\n",
    "    vertices_v1_links_to = []\n",
    "    for edge in v1.edges:\n",
    "        for vertex in edge.vertices:\n",
    "            if vertex not in [v1, v2]:\n",
    "                vertices_v1_links_to.append(vertex)\n",
    "    \n",
    "    # among those, leave only those vertices that are connected to v2\n",
    "    vertices_v1_links_to = [vertex for vertex in vertices_v1_links_to if g.are_connected(vertex, v2)]\n",
    "    \n",
    "    # for each vertex in that list:\n",
    "    for vertex in vertices_v1_links_to:\n",
    "    \n",
    "    # for each edge belonging to that vertex:\n",
    "        for edge in vertex.edges:\n",
    "    \n",
    "    # if edge connects to v1 or v2, add it to a return list\n",
    "            if v1 in edge.vertices or v1 in edge.vertices:\n",
    "                return_list.append(edge)\n",
    "    \n",
    "    return return_list"
   ]
  },
  {
   "cell_type": "markdown",
   "id": "262d56d2",
   "metadata": {},
   "source": [
    "Old approach:"
   ]
  },
  {
   "cell_type": "code",
   "execution_count": null,
   "id": "859d6856",
   "metadata": {},
   "outputs": [],
   "source": [
    "# def simplify_double_edges(g: Graph):\n",
    "#     '''if there are 2 edges within a pair of vertices, leave only 1\n",
    "#     This is possible due to perhaps multiple edge objects (of different IDs) connecting the same Vertices\n",
    "    \n",
    "#     Also fixes broken edges'''\n",
    "    \n",
    "#     unique_vertex_connections = []\n",
    "#     edges_copy = g.edges.copy()\n",
    "\n",
    "#     for edge in edges_copy:\n",
    "        \n",
    "#         #Not broken edge (2 endpoints)\n",
    "#         try:\n",
    "#             pair = (list(edge.vertices)[0].id, list(edge.vertices)[1].id)\n",
    "            \n",
    "#             if pair not in unique_vertex_connections:\n",
    "#                 unique_vertex_connections.append(pair)\n",
    "#             else:\n",
    "#                 print(\"removed edge via try\")\n",
    "# #                 list(edge.vertices)[0].remove_edges(edge) #vertex.remove_edges(edge)\n",
    "# #                 list(edge.vertices)[1].remove_edges(edge)\n",
    "#                 g.edges.remove(edge) #remember to update properly\n",
    "        \n",
    "#         #Broken edge (1 endpoint)\n",
    "#         except IndexError:\n",
    "#             print('removed an edge via except')\n",
    "#             #list(edge.vertices)[0].remove_edges(edge)\n",
    "#             g.edges.remove(edge)\n",
    "            \n",
    "#     g.edges = edges_copy #?\n",
    "    \n",
    "#     return g"
   ]
  }
 ],
 "metadata": {
  "kernelspec": {
   "display_name": "Python 3 (ipykernel)",
   "language": "python",
   "name": "python3"
  },
  "language_info": {
   "codemirror_mode": {
    "name": "ipython",
    "version": 3
   },
   "file_extension": ".py",
   "mimetype": "text/x-python",
   "name": "python",
   "nbconvert_exporter": "python",
   "pygments_lexer": "ipython3",
   "version": "3.11.3"
  }
 },
 "nbformat": 4,
 "nbformat_minor": 5
}

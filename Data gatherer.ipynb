{
 "cells": [
  {
   "cell_type": "code",
   "execution_count": 1,
   "id": "c7d29fd9",
   "metadata": {},
   "outputs": [],
   "source": [
    "#CHANGE THE PATH TO THE PATH AT YOUR PC!\n",
    "path = \"C:\\\\Users\\\\user\\\\Desktop\\\\TUe\\\\Topological\\\\Project\\\\Geolife Trajectories 1.3\\\\Data\\\\\"\n",
    "\n",
    "import pandas as pd\n",
    "import os\n",
    "from datetime import datetime, timedelta"
   ]
  },
  {
   "cell_type": "markdown",
   "id": "698ce44b",
   "metadata": {},
   "source": [
    "## Changes in the processing:\n",
    "\n",
    "- Date converted to datetime format and to Beijing time (for day/night purposes)\n",
    "\n",
    "- Feet altitude converted to meters, because we have any remains of self-respect\n",
    "\n",
    "- Plug in the path from above and one number - the number of person as given by the folders\n",
    "\n",
    "- Creates one full.csv dataset for one person outside the redundant Trajectories folder\n",
    "\n",
    "- Prunes it so that no trajectory datapoint is recorded if no movement was detected\n",
    "\n",
    "- ^No such case found in the first couple files, lol. So this will not run on the dataset\n",
    "\n",
    "- ^Perhaps we shall just set a threshold there, so that movement of speed 1 meter per hour (if exists) is trated as no movement"
   ]
  },
  {
   "cell_type": "code",
   "execution_count": 27,
   "id": "2920dbeb",
   "metadata": {},
   "outputs": [],
   "source": [
    "def fix_date(row):\n",
    "    '''Merges the date and time, converts them into datetime objects\n",
    "    And converts into Beijing time [by adding 8 hours to the UTC, idc about winter/summer time]'''\n",
    "    \n",
    "    text1, text2 = row['date'], row['hour']\n",
    "    text1 = text1+'&'+text2\n",
    "    time = datetime.strptime(text1, '%Y-%m-%d&%H:%M:%S') + timedelta(hours=8)\n",
    "    return time\n",
    "\n",
    "def feet_to_meters(text: str):\n",
    "    '''because we use metric system here'''\n",
    "    return round(int(text)/3.28084)\n",
    "\n",
    "def data_per_file(path, prune_redundant=False):\n",
    "    '''Altitude set to -237 if None\n",
    "    DataFramifies one .plt trajectory file\n",
    "    latitude NORTH, longitude EAST, altitude METERS\n",
    "    prune_redundant for now did not prune a single row, which is disturbing'''\n",
    "    \n",
    "    #Reading the dataset and removing redundant columns:\n",
    "    df = pd.read_csv(path, skiprows=6)\n",
    "    df.columns = ['latitude', 'longitude', 'worthless1', 'altitude', 'worthless2', 'date', 'hour']\n",
    "    df = df.drop(['worthless1', 'worthless2'], axis=1)\n",
    "    \n",
    "    #Simplifying the date format and chaning to local time:\n",
    "    df['full_date'] = df.apply(fix_date, axis=1)\n",
    "    df = df.drop(['date', 'hour'], axis=1)\n",
    "    df.columns = list(df.columns[:-1]) + [\"date\"]\n",
    "    \n",
    "    #(possibly) pruning the useless (no movement) rows:\n",
    "    if prune_redundant:\n",
    "        to_be_deleted_rows = delete_redundant_rows(df)\n",
    "        df = df.drop(to_be_deleted_rows, axis=1).reset_index(drop=True)\n",
    "    \n",
    "    #Converting feet to meters\n",
    "    df['altitude'] = df['altitude'].apply(feet_to_meters)\n",
    "    \n",
    "    return df\n",
    "\n",
    "def save_data_per_person(path: str, number_person_as_string: str):\n",
    "    '''Runs the data_per_file once for each file one person has and concatenates the result'''\n",
    "    \n",
    "    df = pd.DataFrame()\n",
    "    for element in os.listdir(path + number_person_as_string + \"\\\\Trajectory\"):\n",
    "        file_path = path + number_person_as_string + \"\\\\Trajectory\\\\\" + element\n",
    "        df = pd.concat([df, data_per_file(file_path)], axis=0).reset_index(drop=True)\n",
    "    \n",
    "    #Saved as a CSV outside the redundant Trajectories folder:\n",
    "    df.to_csv(path+number_person_as_string+'\\\\full.csv', index=False)"
   ]
  },
  {
   "cell_type": "code",
   "execution_count": 44,
   "id": "7e730660",
   "metadata": {},
   "outputs": [],
   "source": [
    "df = data_per_file(path=\"C:\\\\Users\\\\user\\\\Desktop\\\\TUe\\\\Topological\\\\Project\\\\Geolife Trajectories 1.3\\\\Data\\\\0\\\\Trajectory\\\\20081026081229.plt\")"
   ]
  },
  {
   "cell_type": "code",
   "execution_count": 45,
   "id": "7b573889",
   "metadata": {},
   "outputs": [
    {
     "data": {
      "text/html": [
       "<div>\n",
       "<style scoped>\n",
       "    .dataframe tbody tr th:only-of-type {\n",
       "        vertical-align: middle;\n",
       "    }\n",
       "\n",
       "    .dataframe tbody tr th {\n",
       "        vertical-align: top;\n",
       "    }\n",
       "\n",
       "    .dataframe thead th {\n",
       "        text-align: right;\n",
       "    }\n",
       "</style>\n",
       "<table border=\"1\" class=\"dataframe\">\n",
       "  <thead>\n",
       "    <tr style=\"text-align: right;\">\n",
       "      <th></th>\n",
       "      <th>latitude</th>\n",
       "      <th>longitude</th>\n",
       "      <th>altitude</th>\n",
       "      <th>date</th>\n",
       "    </tr>\n",
       "  </thead>\n",
       "  <tbody>\n",
       "    <tr>\n",
       "      <th>0</th>\n",
       "      <td>39.973795</td>\n",
       "      <td>116.326985</td>\n",
       "      <td>-814</td>\n",
       "      <td>2008-10-26 16:12:31</td>\n",
       "    </tr>\n",
       "    <tr>\n",
       "      <th>1</th>\n",
       "      <td>39.977223</td>\n",
       "      <td>116.327262</td>\n",
       "      <td>-63</td>\n",
       "      <td>2008-10-26 16:13:42</td>\n",
       "    </tr>\n",
       "    <tr>\n",
       "      <th>2</th>\n",
       "      <td>39.977144</td>\n",
       "      <td>116.327298</td>\n",
       "      <td>-73</td>\n",
       "      <td>2008-10-26 16:13:43</td>\n",
       "    </tr>\n",
       "    <tr>\n",
       "      <th>3</th>\n",
       "      <td>39.977059</td>\n",
       "      <td>116.327273</td>\n",
       "      <td>-90</td>\n",
       "      <td>2008-10-26 16:13:45</td>\n",
       "    </tr>\n",
       "    <tr>\n",
       "      <th>4</th>\n",
       "      <td>39.976940</td>\n",
       "      <td>116.327264</td>\n",
       "      <td>-115</td>\n",
       "      <td>2008-10-26 16:13:46</td>\n",
       "    </tr>\n",
       "  </tbody>\n",
       "</table>\n",
       "</div>"
      ],
      "text/plain": [
       "    latitude   longitude  altitude                date\n",
       "0  39.973795  116.326985      -814 2008-10-26 16:12:31\n",
       "1  39.977223  116.327262       -63 2008-10-26 16:13:42\n",
       "2  39.977144  116.327298       -73 2008-10-26 16:13:43\n",
       "3  39.977059  116.327273       -90 2008-10-26 16:13:45\n",
       "4  39.976940  116.327264      -115 2008-10-26 16:13:46"
      ]
     },
     "execution_count": 45,
     "metadata": {},
     "output_type": "execute_result"
    }
   ],
   "source": [
    "df.head()"
   ]
  },
  {
   "cell_type": "code",
   "execution_count": 33,
   "id": "f1dbb0d9",
   "metadata": {},
   "outputs": [],
   "source": [
    "def delete_redundant_rows(df):\n",
    "    '''Deletes rows for which both the longitude and latitude did not change\n",
    "    Seems like there are no such rows now??? I was sure I saw them!'''\n",
    "    \n",
    "    for i in range(df.shape[0]-1):\n",
    "        to_be_deleted_rows = []\n",
    "        if df.loc[i]['latitude'] == df.loc[i+1]['latitude'] and df.loc[i]['longitude'] == df.loc[i+1]['longitude']:\n",
    "            to_be_deleted_rows.append(i+1)\n",
    "            \n",
    "    return to_be_deleted_rows"
   ]
  },
  {
   "cell_type": "code",
   "execution_count": 46,
   "id": "10a00d51",
   "metadata": {},
   "outputs": [
    {
     "data": {
      "text/plain": [
       "[]"
      ]
     },
     "execution_count": 46,
     "metadata": {},
     "output_type": "execute_result"
    }
   ],
   "source": [
    "delete_redundant_rows(df)"
   ]
  },
  {
   "cell_type": "code",
   "execution_count": 17,
   "id": "583dd443",
   "metadata": {},
   "outputs": [],
   "source": [
    "save_data_per_person(path, \"0\")"
   ]
  }
 ],
 "metadata": {
  "kernelspec": {
   "display_name": "Python 3 (ipykernel)",
   "language": "python",
   "name": "python3"
  },
  "language_info": {
   "codemirror_mode": {
    "name": "ipython",
    "version": 3
   },
   "file_extension": ".py",
   "mimetype": "text/x-python",
   "name": "python",
   "nbconvert_exporter": "python",
   "pygments_lexer": "ipython3",
   "version": "3.9.7"
  }
 },
 "nbformat": 4,
 "nbformat_minor": 5
}

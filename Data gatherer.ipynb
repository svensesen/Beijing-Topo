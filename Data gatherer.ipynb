{
 "cells": [
  {
   "cell_type": "code",
   "execution_count": 1,
   "id": "c7d29fd9",
   "metadata": {},
   "outputs": [],
   "source": [
    "# CHANGE THE PATH TO THE PATH AT YOUR PC!\n",
    "#path = \"C:\\\\Users\\\\user\\\\Desktop\\\\TUe\\\\Topological\\\\Project\\\\Geolife Trajectories 1.3\\\\Data\\\\\"\n",
    "path = \"Geolife Trajectories 1.3\\\\Data\\\\\"\n",
    "\n",
    "import pandas as pd\n",
    "import os\n",
    "from datetime import datetime, timedelta"
   ]
  },
  {
   "attachments": {},
   "cell_type": "markdown",
   "id": "698ce44b",
   "metadata": {},
   "source": [
    "## Changes in the processing:\n",
    "\n",
    "- Date converted to datetime format and to Beijing time (for day/night purposes)\n",
    "\n",
    "- Feet altitude converted to meters, because we have any remains of self-respect\n",
    "\n",
    "- Plug in the path from above and one number - the number of person as given by the folders\n",
    "\n",
    "- Creates one full.csv dataset for one person outside the redundant Trajectories folder\n",
    "\n",
    "- Prunes it so that no trajectory datapoint is recorded if no movement was detected\n",
    "\n",
    "- ^No such case found in the first couple files, lol. So this will not run on the dataset\n",
    "\n",
    "- ^Perhaps we shall just set a threshold there, so that movement of speed 1 meter per hour (if exists) is trated as no movement"
   ]
  },
  {
   "cell_type": "code",
   "execution_count": 2,
   "id": "2920dbeb",
   "metadata": {},
   "outputs": [],
   "source": [
    "def fix_date_trajectories(row):\n",
    "    '''Merges the date and time, converts them into datetime objects\n",
    "    And converts into Beijing time [by adding 8 hours to the UTC, idc about winter/summer time]'''\n",
    "    \n",
    "    text1, text2 = row['date'], row['hour']\n",
    "    text1 = text1+'&'+text2\n",
    "    time = datetime.strptime(text1, '%Y-%m-%d&%H:%M:%S') + timedelta(hours=8)\n",
    "    return time\n",
    "\n",
    "def feet_to_meters(text: str):\n",
    "    '''because we use metric system here'''\n",
    "    return round(int(text)/3.28084)\n",
    "\n",
    "def data_per_file(path, prune_redundant=False):\n",
    "    '''Altitude set to -237 if None\n",
    "    DataFramifies one .plt trajectory file\n",
    "    latitude NORTH, longitude EAST, altitude METERS\n",
    "    prune_redundant for now did not prune a single row, which is disturbing'''\n",
    "    \n",
    "    #Reading the dataset and removing redundant columns:\n",
    "    df = pd.read_csv(path, skiprows=6)\n",
    "    df.columns = ['latitude', 'longitude', 'worthless1', 'altitude', 'worthless2', 'date', 'hour']\n",
    "    df = df.drop(['worthless1', 'worthless2'], axis=1)\n",
    "    \n",
    "    #Simplifying the date format and chaning to local time:\n",
    "    df['full_date'] = df.apply(fix_date_trajectories, axis=1)\n",
    "    df = df.drop(['date', 'hour'], axis=1)\n",
    "    df.columns = list(df.columns[:-1]) + [\"date\"]\n",
    "    \n",
    "    #(possibly) pruning the useless (no movement) rows:\n",
    "    if prune_redundant:\n",
    "        to_be_deleted_rows = delete_redundant_rows(df)\n",
    "        df = df.drop(to_be_deleted_rows, axis=1).reset_index(drop=True)\n",
    "    \n",
    "    #Converting feet to meters\n",
    "    df['altitude'] = df['altitude'].apply(feet_to_meters)\n",
    "    \n",
    "    return df\n",
    "\n",
    "def save_data_per_person(path: str, number_person_as_string: str):\n",
    "    '''Runs the data_per_file once for each file one person has and concatenates the result'''\n",
    "    \n",
    "    df = pd.DataFrame()\n",
    "    for element in os.listdir(path + number_person_as_string + \"\\\\Trajectory\"):\n",
    "        file_path = path + number_person_as_string + \"\\\\Trajectory\\\\\" + element\n",
    "        download_df = data_per_file(file_path)\n",
    "        download_df[\"trajectory\"] = number_person_as_string + \".\" + element[:-4] # Adds the trajectory\n",
    "        df = pd.concat([df, download_df], axis=0).reset_index(drop=True)\n",
    "    \n",
    "    # Adds the user and (as much as possible) the trajectory\n",
    "    df[\"user\"] = number_person_as_string\n",
    "    df[\"transportation\"] = None\n",
    "    if os.path.exists(path + number_person_as_string + \"\\\\labels.txt\"):\n",
    "        df = add_transportation_lables(df, number_person_as_string)\n",
    "    \n",
    "    #Saved as a CSV outside the redundant Trajectories folder:\n",
    "    df.to_csv(path+number_person_as_string+'\\\\full.csv', index=False)\n",
    "    \n",
    "def add_transportation_lables(df: pd.DataFrame, number_person_as_string: str):\n",
    "    '''Adds the transportation method to the dataframe'''\n",
    "    labels = pd.read_csv(path + number_person_as_string + \"\\\\labels.txt\", sep = \"\\t\", parse_dates = [0,1])\n",
    "    labels[\"Start Time\"] = labels[\"Start Time\"] + timedelta(hours = 8)\n",
    "    labels[\"End Time\"] = labels[\"End Time\"] + timedelta(hours = 8)\n",
    "\n",
    "    for index, row in labels.iterrows():\n",
    "        start_date = row[\"Start Time\"]\n",
    "        end_date = row[\"End Time\"]\n",
    "        transportation = row[\"Transportation Mode\"]\n",
    "\n",
    "        df.loc[((df[\"date\"] > start_date) & (df[\"date\"] < end_date)), \"transportation\"] = transportation\n",
    "    \n",
    "    return df\n",
    "    \n",
    "def delete_redundant_rows(df):\n",
    "    '''Deletes rows for which both the longitude and latitude did not change\n",
    "    Seems like there are no such rows now??? I was sure I saw them!'''\n",
    "    \n",
    "    for i in range(df.shape[0]-1):\n",
    "        to_be_deleted_rows = []\n",
    "        if df.loc[i]['latitude'] == df.loc[i+1]['latitude'] and df.loc[i]['longitude'] == df.loc[i+1]['longitude']:\n",
    "            to_be_deleted_rows.append(i+1)\n",
    "            \n",
    "    return to_be_deleted_rows"
   ]
  },
  {
   "cell_type": "code",
   "execution_count": null,
   "id": "149774a6",
   "metadata": {},
   "outputs": [],
   "source": [
    "# Creates the csv's for every user\n",
    "# Warning: Takes quite a while\n",
    "if False:\n",
    "    for user in os.listdir(path):\n",
    "        print(user)\n",
    "        save_data_per_person(path, user)"
   ]
  },
  {
   "cell_type": "code",
   "execution_count": null,
   "id": "745f93e0",
   "metadata": {},
   "outputs": [],
   "source": [
    "# Combines all users into 10 size packages\n",
    "# Warning: Also takes quite a while\n",
    "if False:\n",
    "    full_df = pd.DataFrame()\n",
    "    counter = 0\n",
    "    label_counter = 0\n",
    "\n",
    "    for user in os.listdir(path):\n",
    "        counter += 1\n",
    "        print(user)\n",
    "        full_df = pd.concat([full_df, pd.read_csv(f\"{path}{user}\\\\full.csv\")])\n",
    "\n",
    "        if counter == 10:\n",
    "            full_df.to_csv(f\"{label_counter}-{label_counter+9}.csv\", index = False)\n",
    "            label_counter += 10\n",
    "            counter = 0\n",
    "\n",
    "            full_df = pd.DataFrame()\n",
    "\n",
    "    full_df.to_csv(f\"{label_counter}-{label_counter+counter-1}.csv\", index = False)"
   ]
  },
  {
   "cell_type": "code",
   "execution_count": null,
   "id": "759722e7",
   "metadata": {},
   "outputs": [],
   "source": [
    "# Combines all users into the same csv\n",
    "# Warning: Also also takes quite a while\n",
    "if False:\n",
    "    files = [i for i in os.listdir()if i[-3:] == \"csv\" ]\n",
    "    df = pd.concat([pd.read_csv(file) for file in files], ignore_index=True)\n",
    "    df.to_csv(\"0-181.csv\", index = False)"
   ]
  },
  {
   "cell_type": "code",
   "execution_count": 3,
   "id": "0209f58c",
   "metadata": {},
   "outputs": [
    {
     "name": "stderr",
     "output_type": "stream",
     "text": [
      "C:\\ProgramData\\Anaconda3\\lib\\site-packages\\IPython\\core\\interactiveshell.py:3165: DtypeWarning: Columns (6) have mixed types.Specify dtype option on import or set low_memory=False.\n",
      "  has_raised = await self.run_ast_nodes(code_ast.body, cell_name,\n"
     ]
    }
   ],
   "source": [
    "full_df = pd.read_csv(\"0-182.csv\")"
   ]
  },
  {
   "cell_type": "code",
   "execution_count": 4,
   "id": "59f8fc4b",
   "metadata": {},
   "outputs": [
    {
     "data": {
      "text/html": [
       "<div>\n",
       "<style scoped>\n",
       "    .dataframe tbody tr th:only-of-type {\n",
       "        vertical-align: middle;\n",
       "    }\n",
       "\n",
       "    .dataframe tbody tr th {\n",
       "        vertical-align: top;\n",
       "    }\n",
       "\n",
       "    .dataframe thead th {\n",
       "        text-align: right;\n",
       "    }\n",
       "</style>\n",
       "<table border=\"1\" class=\"dataframe\">\n",
       "  <thead>\n",
       "    <tr style=\"text-align: right;\">\n",
       "      <th></th>\n",
       "      <th>latitude</th>\n",
       "      <th>longitude</th>\n",
       "      <th>altitude</th>\n",
       "      <th>date</th>\n",
       "      <th>trajectory</th>\n",
       "      <th>user</th>\n",
       "      <th>transportation</th>\n",
       "    </tr>\n",
       "  </thead>\n",
       "  <tbody>\n",
       "    <tr>\n",
       "      <th>0</th>\n",
       "      <td>39.984683</td>\n",
       "      <td>116.318450</td>\n",
       "      <td>150</td>\n",
       "      <td>2008-10-23 10:53:10</td>\n",
       "      <td>0.20081</td>\n",
       "      <td>0</td>\n",
       "      <td>NaN</td>\n",
       "    </tr>\n",
       "    <tr>\n",
       "      <th>1</th>\n",
       "      <td>39.984686</td>\n",
       "      <td>116.318417</td>\n",
       "      <td>150</td>\n",
       "      <td>2008-10-23 10:53:15</td>\n",
       "      <td>0.20081</td>\n",
       "      <td>0</td>\n",
       "      <td>NaN</td>\n",
       "    </tr>\n",
       "    <tr>\n",
       "      <th>2</th>\n",
       "      <td>39.984688</td>\n",
       "      <td>116.318385</td>\n",
       "      <td>150</td>\n",
       "      <td>2008-10-23 10:53:20</td>\n",
       "      <td>0.20081</td>\n",
       "      <td>0</td>\n",
       "      <td>NaN</td>\n",
       "    </tr>\n",
       "    <tr>\n",
       "      <th>3</th>\n",
       "      <td>39.984655</td>\n",
       "      <td>116.318263</td>\n",
       "      <td>150</td>\n",
       "      <td>2008-10-23 10:53:25</td>\n",
       "      <td>0.20081</td>\n",
       "      <td>0</td>\n",
       "      <td>NaN</td>\n",
       "    </tr>\n",
       "    <tr>\n",
       "      <th>4</th>\n",
       "      <td>39.984611</td>\n",
       "      <td>116.318026</td>\n",
       "      <td>150</td>\n",
       "      <td>2008-10-23 10:53:30</td>\n",
       "      <td>0.20081</td>\n",
       "      <td>0</td>\n",
       "      <td>NaN</td>\n",
       "    </tr>\n",
       "  </tbody>\n",
       "</table>\n",
       "</div>"
      ],
      "text/plain": [
       "    latitude   longitude  altitude                 date  trajectory  user  \\\n",
       "0  39.984683  116.318450       150  2008-10-23 10:53:10     0.20081     0   \n",
       "1  39.984686  116.318417       150  2008-10-23 10:53:15     0.20081     0   \n",
       "2  39.984688  116.318385       150  2008-10-23 10:53:20     0.20081     0   \n",
       "3  39.984655  116.318263       150  2008-10-23 10:53:25     0.20081     0   \n",
       "4  39.984611  116.318026       150  2008-10-23 10:53:30     0.20081     0   \n",
       "\n",
       "  transportation  \n",
       "0            NaN  \n",
       "1            NaN  \n",
       "2            NaN  \n",
       "3            NaN  \n",
       "4            NaN  "
      ]
     },
     "execution_count": 4,
     "metadata": {},
     "output_type": "execute_result"
    }
   ],
   "source": [
    "full_df.head()"
   ]
  },
  {
   "cell_type": "code",
   "execution_count": 5,
   "id": "976e478f",
   "metadata": {},
   "outputs": [
    {
     "data": {
      "text/plain": [
       "array([nan, 'train', 'taxi', 'walk', 'bus', 'subway', 'airplane', 'car',\n",
       "       'bike', 'motorcycle', 'run', 'boat'], dtype=object)"
      ]
     },
     "execution_count": 5,
     "metadata": {},
     "output_type": "execute_result"
    }
   ],
   "source": [
    "full_df[\"transportation\"].unique()"
   ]
  },
  {
   "cell_type": "code",
   "execution_count": 11,
   "id": "5921e773",
   "metadata": {},
   "outputs": [],
   "source": [
    "full_df[full_df[\"transportation\"].isin([\"walk\", \"run\"])].to_csv(\"presets/walk.csv\", index = False)\n",
    "full_df[full_df[\"transportation\"].isin([\"bus\", \"train\", \"subway\"])].to_csv(\"presets/PT.csv\", index = False)\n",
    "full_df[full_df[\"transportation\"].isin([\"car\", \"taxi\"])].to_csv(\"presets/car.csv\", index = False)"
   ]
  },
  {
   "cell_type": "code",
   "execution_count": 36,
   "id": "3a937e09",
   "metadata": {},
   "outputs": [],
   "source": [
    "trajectory_count = full_df[\"trajectory\"].value_counts()\n",
    "very_short_trajectories = list(trajectory_count[(trajectory_count <= 120)].keys())\n",
    "short_trajectories = list(trajectory_count[(trajectory_count >= 120) & (trajectory_count <= 720)].keys())\n",
    "medium_trajectories = list(trajectory_count[(trajectory_count >= 720) & (trajectory_count <= 2160)].keys())\n",
    "\n",
    "full_df[full_df[\"trajectory\"].isin(very_short_trajectories)].to_csv(\"presets/very_short.csv\", index = False)\n",
    "full_df[full_df[\"trajectory\"].isin(short_trajectories)].to_csv(\"presets/short.csv\", index = False)\n",
    "full_df[full_df[\"trajectory\"].isin(medium_trajectories)].to_csv(\"presets/medium.csv\", index = False)"
   ]
  }
 ],
 "metadata": {
  "kernelspec": {
   "display_name": "Python 3",
   "language": "python",
   "name": "python3"
  },
  "language_info": {
   "codemirror_mode": {
    "name": "ipython",
    "version": 3
   },
   "file_extension": ".py",
   "mimetype": "text/x-python",
   "name": "python",
   "nbconvert_exporter": "python",
   "pygments_lexer": "ipython3",
   "version": "3.8.8"
  }
 },
 "nbformat": 4,
 "nbformat_minor": 5
}

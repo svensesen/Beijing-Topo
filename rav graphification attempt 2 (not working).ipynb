{
 "cells": [
  {
   "cell_type": "code",
   "execution_count": 1,
   "id": "c7d29fd9",
   "metadata": {},
   "outputs": [],
   "source": [
    "#CHANGE THE PATH TO THE PATH AT YOUR PC!\n",
    "path = \"C:\\\\Users\\\\user\\\\Desktop\\\\TUe\\\\Topological\\\\Project\\\\Geolife Trajectories 1.3\\\\Data\\\\\"\n",
    "CITY_BORDERS = [40.19, 39.65, 115.98, 116.74]\n",
    "crop_to_borders = True\n",
    "THRESHOLD_VERTICES = 50\n",
    "THRESHOLD_EDGES = 4\n",
    "GRID_SHAPE = (40, 40)\n",
    "\n",
    "import pandas as pd\n",
    "import os\n",
    "from datetime import datetime, timedelta\n",
    "import matplotlib.pyplot as plt\n",
    "from Graph import *\n",
    "from Grid import *"
   ]
  },
  {
   "cell_type": "code",
   "execution_count": 2,
   "id": "90f15e5d",
   "metadata": {},
   "outputs": [],
   "source": [
    "df = pd.read_csv(\".\\\\presets\\\\very_short.csv\")"
   ]
  },
  {
   "cell_type": "code",
   "execution_count": 3,
   "id": "7b573889",
   "metadata": {},
   "outputs": [],
   "source": [
    "def grid_graphify(df: pd.DataFrame, crop_to_borders: bool, grid_shape: tuple, \n",
    "                  THRESHOLD_VERTICES: int, THRESHOLD_EDGES: int, CITY_BORDERS: list):\n",
    "    '''#How many locations do we need for a cell to be classified as a vertex? Enter the threshold:'''\n",
    "\n",
    "    #(possibly) cropping the data to the city borders:\n",
    "    if crop_to_borders:\n",
    "        mask_north = df['latitude'] <= CITY_BORDERS[0]\n",
    "        mask_south = df['latitude'] >= CITY_BORDERS[1]\n",
    "        mask_east = df['longitude'] <= CITY_BORDERS[3]\n",
    "        mask_west = df['longitude'] >= CITY_BORDERS[2]\n",
    "        mask_all = mask_north & mask_south & mask_east & mask_west\n",
    "        df = df[mask_all].reset_index(drop=True)\n",
    "    \n",
    "    #Grid creation example:\n",
    "    grid = Grid(grid_shape[0], grid_shape[1]) \n",
    "    print(grid)\n",
    "    print(grid.cell_list[0].number_of_locations)\n",
    "    \n",
    "    \n",
    "    #This will perform some expensive computation. Around 7s on the 160k dataset\n",
    "    df['column_number'] = df['latitude'].apply(latitude_to_row, \n",
    "                                               args=(grid.latitude_cells_nr, \n",
    "                                                     grid.latitude_cell_length,\n",
    "                                                     CITY_BORDERS))\n",
    "\n",
    "    df['row_number'] = df['longitude'].apply(longitude_to_column,\n",
    "                                             args=(grid.longitude_cells_nr,\n",
    "                                                   grid.longitude_cell_length,\n",
    "                                                   CITY_BORDERS))\n",
    "\n",
    "    df['cell_number'] = df.apply(lambda x: row_column_to_cell_number(x['column_number'], \n",
    "                                                                     x['row_number'],\n",
    "                                                                     grid.longitude_cells_nr),axis = 1)\n",
    "\n",
    "    df = df.drop(['column_number', 'row_number'], axis=1)\n",
    "    df = df.dropna(subset=['cell_number'])\n",
    "    df = df.reset_index(drop=True)\n",
    "    \n",
    "    print(df.shape)\n",
    "    \n",
    "    #This actually performs the large computation:\n",
    "    grid.feed_list_of_cell_numbers(list(df.cell_number))\n",
    "\n",
    "    #And this just switches some flags around:\n",
    "    grid.vertexize(THRESHOLD_VERTICES)\n",
    "    \n",
    "    #By grouping per trajectory, we can find the unique vertices each trajectory has traversed!\n",
    "    df_grouped = df.groupby('trajectory')\n",
    "    print(grid.cell_list[12].is_vertex)\n",
    "    \n",
    "    #{(213, 7): 5, ...} meaning there are 5 trajectories that went from cell 213 to cell 7 immediately\n",
    "    edges_dict = find_subsequent_vertex_pairs(df_grouped, grid)\n",
    "    \n",
    "    #Same as above, but filtered by a threshold\n",
    "    edges = [key for key in edges_dict if edges_dict[key] > THRESHOLD_EDGES]\n",
    "    print(edges[:5])\n",
    "    \n",
    "    g = rav_graph_to_sven_graph_2(grid, edges)\n",
    "    \n",
    "    g.remove_unconnected_vertices()\n",
    "    \n",
    "    return g"
   ]
  },
  {
   "cell_type": "code",
   "execution_count": 4,
   "id": "946c1e59",
   "metadata": {},
   "outputs": [
    {
     "name": "stdout",
     "output_type": "stream",
     "text": [
      "Grid of side length (latitude) 0.0135 and (longitude) 0.019 and total number of cells: 1600\n",
      "0\n",
      "(90386, 9)\n",
      "False\n",
      "[(1019, 1020), (1019, 1018), (1020, 1019)]\n"
     ]
    }
   ],
   "source": [
    "g = grid_graphify(df, True, GRID_SHAPE, THRESHOLD_EDGES, THRESHOLD_VERTICES, CITY_BORDERS)\n",
    "g.save('random_graph_4')"
   ]
  },
  {
   "cell_type": "markdown",
   "id": "7c91a346",
   "metadata": {},
   "source": [
    "Determining whether the cell is or is not a vetex - for all cells in the grid:"
   ]
  },
  {
   "cell_type": "code",
   "execution_count": null,
   "id": "2985993f",
   "metadata": {},
   "outputs": [],
   "source": [
    "# def plot_cell_containment(grid: Grid, threshold: int, bins = 20):\n",
    "#     ''''''\n",
    "#     wow = pd.Series([grid.cell_list[i].number_of_locations for i in range(grid.latitude_cells_nr*grid.longitude_cells_nr)])\n",
    "#     wow = pd.Series([wow[i] for i in range(len(wow)) if wow[i] > threshold])\n",
    "#     ax = wow.plot(kind='hist', bins=bins)\n",
    "#     ax.set_xlabel(\"# GPS locations per cell of the grid\")\n",
    "#     ax.set_ylabel(\"# cells with such # locations\")\n",
    "    \n",
    "# plot_cell_containment(grid, threshold=THRESHOLD_VERTICES)"
   ]
  },
  {
   "cell_type": "code",
   "execution_count": null,
   "id": "908d3a20",
   "metadata": {},
   "outputs": [],
   "source": [
    "fig, ax = plt.subplots(figsize = (7,7))\n",
    "ax.scatter(df.latitude, df.longitude, zorder=1, alpha= 0.2, c='b', s=10)\n",
    "\n",
    "# for edge in g.edges:\n",
    "#     lat1 = min(edge.vertices).latitude\n",
    "#     long1 = min(edge.vertices).longitude\n",
    "    \n",
    "#     lat2 = max(edge.vertices).latitude\n",
    "#     long2 = max(edge.vertices).longitude\n",
    "    \n",
    "#     plt.plot([lat1, lat2], [long1, long2], marker = 'o')\n",
    "\n",
    "# star_vertices = [vertex for vertex in graph.vertices if len(vertex.edges) == 1]\n",
    "# for vertex in star_vertices:\n",
    "#     ax.plot(vertex.latitude, vertex.longitude, markersize=50)\n",
    "    \n",
    "ax = plt.gca()\n",
    "#ax.set_xlim([40.0035, 40.0115])\n",
    "#ax.set_ylim([116.3175, 116.3245])\n",
    "print(f\"reduced from {len(df)} to {len(g.vertices)} points\")"
   ]
  }
 ],
 "metadata": {
  "kernelspec": {
   "display_name": "Python 3 (ipykernel)",
   "language": "python",
   "name": "python3"
  },
  "language_info": {
   "codemirror_mode": {
    "name": "ipython",
    "version": 3
   },
   "file_extension": ".py",
   "mimetype": "text/x-python",
   "name": "python",
   "nbconvert_exporter": "python",
   "pygments_lexer": "ipython3",
   "version": "3.11.3"
  }
 },
 "nbformat": 4,
 "nbformat_minor": 5
}
